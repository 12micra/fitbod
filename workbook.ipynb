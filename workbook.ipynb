{
 "cells": [
  {
   "cell_type": "markdown",
   "metadata": {},
   "source": [
    "### Step 0: Import Relevant Libraries"
   ]
  },
  {
   "cell_type": "code",
   "execution_count": 1,
   "metadata": {},
   "outputs": [],
   "source": [
    "import matplotlib.pyplot as plt\n",
    "import numpy as np\n",
    "import pandas as pd"
   ]
  },
  {
   "cell_type": "markdown",
   "metadata": {},
   "source": [
    "### Step 1: Load in the Data"
   ]
  },
  {
   "cell_type": "code",
   "execution_count": 2,
   "metadata": {},
   "outputs": [],
   "source": [
    "df = pd.read_csv('data/data.csv')"
   ]
  },
  {
   "cell_type": "markdown",
   "metadata": {},
   "source": [
    "### Step 2: Clean the Data"
   ]
  },
  {
   "cell_type": "code",
   "execution_count": 3,
   "metadata": {},
   "outputs": [
    {
     "data": {
      "text/html": [
       "<div>\n",
       "<style scoped>\n",
       "    .dataframe tbody tr th:only-of-type {\n",
       "        vertical-align: middle;\n",
       "    }\n",
       "\n",
       "    .dataframe tbody tr th {\n",
       "        vertical-align: top;\n",
       "    }\n",
       "\n",
       "    .dataframe thead th {\n",
       "        text-align: right;\n",
       "    }\n",
       "</style>\n",
       "<table border=\"1\" class=\"dataframe\">\n",
       "  <thead>\n",
       "    <tr style=\"text-align: right;\">\n",
       "      <th></th>\n",
       "      <th>Date</th>\n",
       "      <th>workoutId</th>\n",
       "      <th>exerciseId</th>\n",
       "      <th>singleSetId</th>\n",
       "      <th>exerciseName</th>\n",
       "      <th>reps</th>\n",
       "      <th>weight</th>\n",
       "      <th>fake_user_id</th>\n",
       "    </tr>\n",
       "  </thead>\n",
       "  <tbody>\n",
       "    <tr>\n",
       "      <th>0</th>\n",
       "      <td>2021-05-03</td>\n",
       "      <td>SQu7iVRCTD</td>\n",
       "      <td>ACSgVaipTW</td>\n",
       "      <td>9uorM8k0ee</td>\n",
       "      <td>Dumbbell Squeeze Press</td>\n",
       "      <td>6</td>\n",
       "      <td>6.803894</td>\n",
       "      <td>fake_id_429</td>\n",
       "    </tr>\n",
       "    <tr>\n",
       "      <th>1</th>\n",
       "      <td>2021-10-06</td>\n",
       "      <td>WtiL03huRb</td>\n",
       "      <td>xPS7RzoOGm</td>\n",
       "      <td>CrgGcfBH5i</td>\n",
       "      <td>Bent Over Barbell Row</td>\n",
       "      <td>15</td>\n",
       "      <td>61.235043</td>\n",
       "      <td>fake_id_443</td>\n",
       "    </tr>\n",
       "    <tr>\n",
       "      <th>2</th>\n",
       "      <td>2021-08-03</td>\n",
       "      <td>OXXdax4EA0</td>\n",
       "      <td>N6zu9IJNBz</td>\n",
       "      <td>NWDLVI2aHz</td>\n",
       "      <td>Leg Raise</td>\n",
       "      <td>8</td>\n",
       "      <td>0.000000</td>\n",
       "      <td>fake_id_451</td>\n",
       "    </tr>\n",
       "    <tr>\n",
       "      <th>3</th>\n",
       "      <td>2021-10-23</td>\n",
       "      <td>VNwsWLSr53</td>\n",
       "      <td>UQBXLgsfXN</td>\n",
       "      <td>JNKWgxAhgD</td>\n",
       "      <td>Dumbbell Shrug</td>\n",
       "      <td>10</td>\n",
       "      <td>18.143716</td>\n",
       "      <td>fake_id_439</td>\n",
       "    </tr>\n",
       "    <tr>\n",
       "      <th>4</th>\n",
       "      <td>2021-08-16</td>\n",
       "      <td>eGDxXCt3nA</td>\n",
       "      <td>EAjKaB5zWy</td>\n",
       "      <td>IlB9juhi9x</td>\n",
       "      <td>Dumbbell Kickbacks</td>\n",
       "      <td>19</td>\n",
       "      <td>2.267965</td>\n",
       "      <td>fake_id_420</td>\n",
       "    </tr>\n",
       "    <tr>\n",
       "      <th>5</th>\n",
       "      <td>2021-08-06</td>\n",
       "      <td>FRzI2Lqr5g</td>\n",
       "      <td>otjt26R0oL</td>\n",
       "      <td>wq0Gzt1iyh</td>\n",
       "      <td>Barbell Shoulder Press</td>\n",
       "      <td>10</td>\n",
       "      <td>27.215575</td>\n",
       "      <td>fake_id_439</td>\n",
       "    </tr>\n",
       "    <tr>\n",
       "      <th>6</th>\n",
       "      <td>2021-03-18</td>\n",
       "      <td>iKfmfln3F4</td>\n",
       "      <td>s5tzCNPRXw</td>\n",
       "      <td>ADrTWFCG8N</td>\n",
       "      <td>Lunge Jump</td>\n",
       "      <td>9</td>\n",
       "      <td>0.000000</td>\n",
       "      <td>fake_id_443</td>\n",
       "    </tr>\n",
       "    <tr>\n",
       "      <th>7</th>\n",
       "      <td>2021-08-18</td>\n",
       "      <td>lq2uNBCEm4</td>\n",
       "      <td>Gx6Z2fevPD</td>\n",
       "      <td>nBUqtKby0f</td>\n",
       "      <td>Incline Dumbbell Row</td>\n",
       "      <td>12</td>\n",
       "      <td>9.071858</td>\n",
       "      <td>fake_id_437</td>\n",
       "    </tr>\n",
       "    <tr>\n",
       "      <th>8</th>\n",
       "      <td>2021-03-30</td>\n",
       "      <td>LO7kBZAjaE</td>\n",
       "      <td>243X43p1XP</td>\n",
       "      <td>RsWpL7b1Ss</td>\n",
       "      <td>Seated Leg Curl</td>\n",
       "      <td>10</td>\n",
       "      <td>38.555397</td>\n",
       "      <td>fake_id_447</td>\n",
       "    </tr>\n",
       "    <tr>\n",
       "      <th>9</th>\n",
       "      <td>2021-03-30</td>\n",
       "      <td>ceor1JHPBE</td>\n",
       "      <td>erjFOF21dc</td>\n",
       "      <td>flspgpTbWQ</td>\n",
       "      <td>Reverse Barbell Curl</td>\n",
       "      <td>12</td>\n",
       "      <td>14.514973</td>\n",
       "      <td>fake_id_436</td>\n",
       "    </tr>\n",
       "  </tbody>\n",
       "</table>\n",
       "</div>"
      ],
      "text/plain": [
       "         Date   workoutId  exerciseId singleSetId            exerciseName  \\\n",
       "0  2021-05-03  SQu7iVRCTD  ACSgVaipTW  9uorM8k0ee  Dumbbell Squeeze Press   \n",
       "1  2021-10-06  WtiL03huRb  xPS7RzoOGm  CrgGcfBH5i   Bent Over Barbell Row   \n",
       "2  2021-08-03  OXXdax4EA0  N6zu9IJNBz  NWDLVI2aHz               Leg Raise   \n",
       "3  2021-10-23  VNwsWLSr53  UQBXLgsfXN  JNKWgxAhgD          Dumbbell Shrug   \n",
       "4  2021-08-16  eGDxXCt3nA  EAjKaB5zWy  IlB9juhi9x      Dumbbell Kickbacks   \n",
       "5  2021-08-06  FRzI2Lqr5g  otjt26R0oL  wq0Gzt1iyh  Barbell Shoulder Press   \n",
       "6  2021-03-18  iKfmfln3F4  s5tzCNPRXw  ADrTWFCG8N              Lunge Jump   \n",
       "7  2021-08-18  lq2uNBCEm4  Gx6Z2fevPD  nBUqtKby0f    Incline Dumbbell Row   \n",
       "8  2021-03-30  LO7kBZAjaE  243X43p1XP  RsWpL7b1Ss         Seated Leg Curl   \n",
       "9  2021-03-30  ceor1JHPBE  erjFOF21dc  flspgpTbWQ    Reverse Barbell Curl   \n",
       "\n",
       "   reps     weight fake_user_id  \n",
       "0     6   6.803894  fake_id_429  \n",
       "1    15  61.235043  fake_id_443  \n",
       "2     8   0.000000  fake_id_451  \n",
       "3    10  18.143716  fake_id_439  \n",
       "4    19   2.267965  fake_id_420  \n",
       "5    10  27.215575  fake_id_439  \n",
       "6     9   0.000000  fake_id_443  \n",
       "7    12   9.071858  fake_id_437  \n",
       "8    10  38.555397  fake_id_447  \n",
       "9    12  14.514973  fake_id_436  "
      ]
     },
     "execution_count": 3,
     "metadata": {},
     "output_type": "execute_result"
    }
   ],
   "source": [
    "# See first ten rows\n",
    "df.head(10)"
   ]
  },
  {
   "cell_type": "code",
   "execution_count": 4,
   "metadata": {},
   "outputs": [
    {
     "data": {
      "text/plain": [
       "str"
      ]
     },
     "execution_count": 4,
     "metadata": {},
     "output_type": "execute_result"
    }
   ],
   "source": [
    "# See data type of first row of date data\n",
    "type(df['Date'][0])"
   ]
  },
  {
   "cell_type": "code",
   "execution_count": 5,
   "metadata": {},
   "outputs": [],
   "source": [
    "# Convert all string dates to Pandas datetime\n",
    "df['Date'] = df['Date'].apply(lambda date: pd.to_datetime(date))"
   ]
  },
  {
   "cell_type": "code",
   "execution_count": 6,
   "metadata": {},
   "outputs": [
    {
     "name": "stdout",
     "output_type": "stream",
     "text": [
      "first date: 2021-01-01 00:00:00\n",
      "last date: 2021-12-16 00:00:00\n"
     ]
    }
   ],
   "source": [
    "# Ensure that all dates are not null\n",
    "first_date = min(df['Date'])\n",
    "last_date = max(df['Date'])\n",
    "\n",
    "print('first date: {}'.format(first_date))\n",
    "print('last date: {}'.format(last_date))"
   ]
  },
  {
   "cell_type": "code",
   "execution_count": 7,
   "metadata": {},
   "outputs": [],
   "source": [
    "# Let's also sort the dataframe so that entries are chronological\n",
    "df = df.sort_values(by='Date')"
   ]
  },
  {
   "cell_type": "code",
   "execution_count": 8,
   "metadata": {},
   "outputs": [
    {
     "name": "stdout",
     "output_type": "stream",
     "text": [
      "number of nulls for workoutId: 0\n"
     ]
    }
   ],
   "source": [
    "# See number of null values for workoutId\n",
    "print('number of nulls for workoutId: {}'.format(df['workoutId'].isnull().sum()))"
   ]
  },
  {
   "cell_type": "code",
   "execution_count": 9,
   "metadata": {},
   "outputs": [
    {
     "data": {
      "text/plain": [
       "workoutId\n",
       "Qtwnw1THH7    40\n",
       "BFOmFxaNJf    40\n",
       "PiQu9Xo8Tn    38\n",
       "nXFHObr7YB    36\n",
       "ocnCnE31m0    35\n",
       "              ..\n",
       "9o60ohMsOx     1\n",
       "utru2DoD84     1\n",
       "GLSGl3DyQE     1\n",
       "YHH1rr2ht9     1\n",
       "Gful6wHWEi     1\n",
       "Name: Date, Length: 3514, dtype: int64"
      ]
     },
     "execution_count": 9,
     "metadata": {},
     "output_type": "execute_result"
    }
   ],
   "source": [
    "# See if there is another way that missing values are encoded in the dataset for workoutId\n",
    "df.groupby('workoutId').agg('count')['Date'].sort_values()[::-1]"
   ]
  },
  {
   "cell_type": "code",
   "execution_count": 10,
   "metadata": {},
   "outputs": [],
   "source": [
    "# Because there isn't a key like 'missing' or '?' that encodes at least 35 values for workoutId, it appears like there is \n",
    "# not much of an issue with missing data for workoutId\n",
    "\n",
    "# Because exerciseId and exerciseName encode the exact same information, let's drop exerciseId\n",
    "df.drop(columns=['exerciseId'], inplace=True)"
   ]
  },
  {
   "cell_type": "code",
   "execution_count": 11,
   "metadata": {
    "scrolled": true
   },
   "outputs": [
    {
     "data": {
      "text/plain": [
       "['Abs Bike',\n",
       " 'Air Squats',\n",
       " 'Australian Chin Up',\n",
       " 'Back Squat',\n",
       " 'Barbell Glute Bridge',\n",
       " 'Barbell Hip Thrust',\n",
       " 'Barbell Incline Bench Press',\n",
       " 'Barbell Shoulder Press',\n",
       " 'Bent Over Barbell Row',\n",
       " 'Cable Crunch',\n",
       " 'Cable Double Bicep Curl',\n",
       " 'Cable Hip Abduction',\n",
       " 'Cable Shoulder Internal Rotation',\n",
       " 'Cable Upright Row',\n",
       " 'Calf Raise',\n",
       " 'Clean',\n",
       " 'Clean Deadlift',\n",
       " 'Clean and Jerk',\n",
       " 'Dead Bug',\n",
       " 'Decline Leg Raise',\n",
       " 'Decline Push Up',\n",
       " 'Dumbbell Clean',\n",
       " 'Dumbbell Decline Bench Press',\n",
       " 'Dumbbell Kickbacks',\n",
       " 'Dumbbell Pullover',\n",
       " 'Dumbbell Rear Delt Raise',\n",
       " 'Dumbbell Shoulder Raise',\n",
       " 'Dumbbell Shrug',\n",
       " 'Dumbbell Squeeze Press',\n",
       " 'Dumbbell Step Up',\n",
       " 'Dumbbell Sumo Squat',\n",
       " 'Exercise Ball Crunch',\n",
       " 'Exercise Ball Push Up',\n",
       " 'Floor Press',\n",
       " 'Forward Stability Ball Plank',\n",
       " 'Frog Pump',\n",
       " 'Glute Ham Raise Situp',\n",
       " 'Hammerstrength Shrug',\n",
       " 'Handle Band Pec Fly',\n",
       " 'Handle Band Squat to Press',\n",
       " 'Hang Clean',\n",
       " 'Hang Snatch',\n",
       " 'Hanging Leg Raise',\n",
       " 'Incline Dumbbell Row',\n",
       " 'Incline Svend Press',\n",
       " 'Kettlebell Front Squat',\n",
       " 'Kettlebell Hang Clean',\n",
       " 'Kettlebell Sumo High Pull',\n",
       " 'Kettlebell Upright Row',\n",
       " 'Knee Raise',\n",
       " 'Landmine Press',\n",
       " 'Lateral Step Up',\n",
       " 'Leg Curl',\n",
       " 'Leg Raise',\n",
       " 'Lunge Jump',\n",
       " 'Machine Fly',\n",
       " 'Machine Leg Press',\n",
       " 'Machine Reverse Fly',\n",
       " 'Machine Shoulder Shrug',\n",
       " 'Medicine Ball Push Up',\n",
       " 'Oblique Crunch',\n",
       " 'Overhead Weighted Sit Up',\n",
       " 'Pendlay Row',\n",
       " 'Pike Push Up',\n",
       " 'Plank',\n",
       " 'Power Clean',\n",
       " 'Preacher Curl',\n",
       " 'Reverse Barbell Curl',\n",
       " 'Reverse Grip Barbell Bent Over Row',\n",
       " 'Romanian Deadlift',\n",
       " 'Russian Twist',\n",
       " 'Scapular Pull Up',\n",
       " 'Seated Leg Curl',\n",
       " 'Seated Machine Calf Press',\n",
       " 'Shotgun Row',\n",
       " 'Side Laterals to Front Raise',\n",
       " 'Single Arm Lat Pulldown',\n",
       " 'Single Arm Overhead Press',\n",
       " 'Single Arm Preacher Curl',\n",
       " 'Single Arm Row',\n",
       " 'Single Leg Hip Thrust',\n",
       " 'Sit Up',\n",
       " 'Sled Pull',\n",
       " 'Smith Machine Calf Raise',\n",
       " 'Smith Machine Decline Press',\n",
       " 'Smith Machine Stiff-Legged Deadlift',\n",
       " 'Stability Ball Hyperextension',\n",
       " 'Standing Hip Adduction',\n",
       " 'Standing Hip Flexor Stretch',\n",
       " 'Step Up',\n",
       " 'TRX Atomic Push Up',\n",
       " 'TRX Chest Press',\n",
       " 'TRX Fallout',\n",
       " 'TRX Glute Bridge',\n",
       " 'TRX Pike',\n",
       " 'TRX Pulse Lunges',\n",
       " 'Tate Press',\n",
       " 'Toes to Bar',\n",
       " 'Tricep Kickback',\n",
       " 'Tricep Press',\n",
       " 'Tricep Push Up']"
      ]
     },
     "execution_count": 11,
     "metadata": {},
     "output_type": "execute_result"
    }
   ],
   "source": [
    "# We can now move our analysis to exerciseName. Let's begin by looking at the unique values for this feature.\n",
    "sorted(df['exerciseName'].unique())"
   ]
  },
  {
   "cell_type": "code",
   "execution_count": 12,
   "metadata": {},
   "outputs": [
    {
     "name": "stdout",
     "output_type": "stream",
     "text": [
      "<class 'numpy.int64'>\n"
     ]
    }
   ],
   "source": [
    "# Amazingly, it does not look like there is any missing data. Moreover, all names are standardized (i.e., we don't have\n",
    "#'squat', 'Squat', and 'Back Squat') and spelled correctly.\n",
    "\n",
    "# Our next question to answer is to look at whether there is any missing data for reps. Let's begin by looking at the\n",
    "# data type of the first row.\n",
    "print(type(df['reps'][0]))"
   ]
  },
  {
   "cell_type": "code",
   "execution_count": 13,
   "metadata": {},
   "outputs": [],
   "source": [
    "# Iterate over all values to see if they all have the same data type\n",
    "for idx in range(len(df)):\n",
    "    if type(df['reps'][idx]) != np.int64:\n",
    "        print(df['reps'][idx])"
   ]
  },
  {
   "cell_type": "code",
   "execution_count": 14,
   "metadata": {
    "scrolled": true
   },
   "outputs": [
    {
     "data": {
      "text/plain": [
       "[0,\n",
       " 1,\n",
       " 2,\n",
       " 3,\n",
       " 4,\n",
       " 5,\n",
       " 6,\n",
       " 7,\n",
       " 8,\n",
       " 9,\n",
       " 10,\n",
       " 11,\n",
       " 12,\n",
       " 13,\n",
       " 14,\n",
       " 15,\n",
       " 16,\n",
       " 17,\n",
       " 18,\n",
       " 19,\n",
       " 20,\n",
       " 21,\n",
       " 22,\n",
       " 23,\n",
       " 24,\n",
       " 25,\n",
       " 26,\n",
       " 27,\n",
       " 28,\n",
       " 29,\n",
       " 30,\n",
       " 31,\n",
       " 33,\n",
       " 34,\n",
       " 35,\n",
       " 36,\n",
       " 37,\n",
       " 38,\n",
       " 39,\n",
       " 40,\n",
       " 41,\n",
       " 42,\n",
       " 43,\n",
       " 45,\n",
       " 47,\n",
       " 48,\n",
       " 49,\n",
       " 50,\n",
       " 60,\n",
       " 100]"
      ]
     },
     "execution_count": 14,
     "metadata": {},
     "output_type": "execute_result"
    }
   ],
   "source": [
    "# From above we can see that all values have the same type. Now let's make sure that all values are reasonable.\n",
    "sorted(df['reps'].unique())"
   ]
  },
  {
   "cell_type": "code",
   "execution_count": 15,
   "metadata": {},
   "outputs": [
    {
     "data": {
      "text/plain": [
       "{'Forward Stability Ball Plank': 25, 'Plank': 673, 'Sled Pull': 6}"
      ]
     },
     "execution_count": 15,
     "metadata": {},
     "output_type": "execute_result"
    }
   ],
   "source": [
    "# It doesn't make sense to have a row with zero reps unless the exercise is something like a plank (even there though,\n",
    "# a single rep is still being performed). With that in mind, let's look at the rows where reps is equal to 0 and see the\n",
    "# exercise type\n",
    "dict(df[df['reps'] == 0].groupby('exerciseName').agg('count')['fake_user_id'])"
   ]
  },
  {
   "cell_type": "code",
   "execution_count": 16,
   "metadata": {},
   "outputs": [],
   "source": [
    "# Since the exercises with 0 reps are all of the same type, it doesn't seem like there was a data entry error. Accordingly,\n",
    "# rows with zero reps will not be removed from the dataframe."
   ]
  },
  {
   "cell_type": "code",
   "execution_count": 17,
   "metadata": {},
   "outputs": [
    {
     "name": "stdout",
     "output_type": "stream",
     "text": [
      "<class 'numpy.float64'>\n"
     ]
    }
   ],
   "source": [
    "# Now let's look at weight.\n",
    "print(type(df['weight'][0]))"
   ]
  },
  {
   "cell_type": "code",
   "execution_count": 18,
   "metadata": {},
   "outputs": [],
   "source": [
    "# Iterate over all values to see if they all have the same data type\n",
    "for idx in range(len(df)):\n",
    "    if type(df['weight'][idx]) != np.float64:\n",
    "        print(df['weight'][idx])"
   ]
  },
  {
   "cell_type": "code",
   "execution_count": 19,
   "metadata": {},
   "outputs": [
    {
     "name": "stdout",
     "output_type": "stream",
     "text": [
      "number of nulls for weight: 0\n"
     ]
    }
   ],
   "source": [
    "# Check for nulls\n",
    "print('number of nulls for weight: {}'.format(df['weight'].isnull().sum()))"
   ]
  },
  {
   "cell_type": "code",
   "execution_count": 20,
   "metadata": {},
   "outputs": [
    {
     "name": "stdout",
     "output_type": "stream",
     "text": [
      "max weight: 172.3653055855431\n",
      "min weight: 0.0\n"
     ]
    }
   ],
   "source": [
    "# Make sure all values are reasonable\n",
    "print('max weight: {}'.format(max(df['weight'])))\n",
    "print('min weight: {}'.format(min(df['weight'])))"
   ]
  },
  {
   "cell_type": "code",
   "execution_count": 21,
   "metadata": {},
   "outputs": [],
   "source": [
    "# Weight also looks good. As a side note, it looks like the values for this column are probably in kilograms.\n",
    "\n",
    "# Does every row have a user id?\n",
    "for idx in range(len(df)):\n",
    "    if df['fake_user_id'][idx][:8] != 'fake_id_':\n",
    "        print(df['fake_user_id'][idx])"
   ]
  },
  {
   "cell_type": "code",
   "execution_count": 22,
   "metadata": {
    "scrolled": true
   },
   "outputs": [],
   "source": [
    "# From above it seems like every row has a user."
   ]
  },
  {
   "cell_type": "markdown",
   "metadata": {},
   "source": [
    "### Step 3: Create New Features (where relevant)"
   ]
  },
  {
   "cell_type": "code",
   "execution_count": 23,
   "metadata": {},
   "outputs": [],
   "source": [
    "# Create feature for join date (i.e., date of first workout)\n",
    "join_dict = {}\n",
    "\n",
    "for user in df['fake_user_id'].unique():\n",
    "    temp_df = df[df['fake_user_id'] == user]\n",
    "    temp_df.reset_index(drop=True, inplace=True)\n",
    "    join_date = temp_df['Date'][0]\n",
    "    join_dict[user] = join_date\n",
    "    \n",
    "df['firstWorkoutDate'] = df['fake_user_id'].apply(lambda user: join_dict[user])"
   ]
  },
  {
   "cell_type": "code",
   "execution_count": 25,
   "metadata": {},
   "outputs": [],
   "source": [
    "# Create feature for last workout date\n",
    "end_dict = {}\n",
    "\n",
    "for user in df['fake_user_id'].unique():\n",
    "    temp_df = df[df['fake_user_id'] == user]\n",
    "    temp_df.reset_index(drop=True, inplace=True)\n",
    "    end_date = list(temp_df['Date'])[-1]\n",
    "    end_dict[user] = end_date\n",
    "    \n",
    "df['lastWorkoutDate'] = df['fake_user_id'].apply(lambda user: end_dict[user])"
   ]
  },
  {
   "cell_type": "code",
   "execution_count": 30,
   "metadata": {},
   "outputs": [],
   "source": [
    "# Create feature for time on app\n",
    "df['daysOnApp'] = df['lastWorkoutDate'] - df['firstWorkoutDate']\n",
    "df['daysOnApp'] = df['daysOnApp'].apply(lambda x: x.days)"
   ]
  },
  {
   "cell_type": "code",
   "execution_count": 32,
   "metadata": {},
   "outputs": [],
   "source": [
    "# Create feature for whether workout occurred on the weekend.\n",
    "df['dayOfWeek'] = df['Date'].apply(lambda date: date.dayofweek)   # dayofweek 0 if Monday, ..., 6 if Sunday"
   ]
  },
  {
   "cell_type": "code",
   "execution_count": 33,
   "metadata": {},
   "outputs": [
    {
     "name": "stderr",
     "output_type": "stream",
     "text": [
      "<ipython-input-33-9604723fbbe4>:24: SettingWithCopyWarning: \n",
      "A value is trying to be set on a copy of a slice from a DataFrame\n",
      "\n",
      "See the caveats in the documentation: https://pandas.pydata.org/pandas-docs/stable/user_guide/indexing.html#returning-a-view-versus-a-copy\n",
      "  df['workoutNumber'][idx] = workout_dict[user][workout]\n"
     ]
    }
   ],
   "source": [
    "# It might be useful to be able to easily see a given user's workout history. Accordingly, let's generate features\n",
    "# for the number of times the user worked out and workout number\n",
    "workout_dict = {}\n",
    "\n",
    "for user in df['fake_user_id'].unique():\n",
    "    workout_dict[user] = {}\n",
    "    temp_df = df[df['fake_user_id'] == user]\n",
    "    workout_number = 1\n",
    "    for workout in temp_df['workoutId'].unique():\n",
    "        workout_dict[user][workout] = workout_number\n",
    "        workout_number += 1\n",
    "        \n",
    "total_workouts_dict = {}\n",
    "\n",
    "for user in workout_dict.keys():\n",
    "    total_workouts_dict[user] = max(workout_dict[user].values())\n",
    "    \n",
    "df['totalWorkouts'] = df['fake_user_id'].apply(lambda user: total_workouts_dict[user])\n",
    "df['workoutNumber'] = 0\n",
    "\n",
    "for idx in range(len(df)):\n",
    "    user = df['fake_user_id'][idx]\n",
    "    workout = df['workoutId'][idx]\n",
    "    df['workoutNumber'][idx] = workout_dict[user][workout]\n",
    "\n",
    "del workout_dict, total_workouts_dict"
   ]
  },
  {
   "cell_type": "code",
   "execution_count": 34,
   "metadata": {},
   "outputs": [
    {
     "data": {
      "text/html": [
       "<div>\n",
       "<style scoped>\n",
       "    .dataframe tbody tr th:only-of-type {\n",
       "        vertical-align: middle;\n",
       "    }\n",
       "\n",
       "    .dataframe tbody tr th {\n",
       "        vertical-align: top;\n",
       "    }\n",
       "\n",
       "    .dataframe thead th {\n",
       "        text-align: right;\n",
       "    }\n",
       "</style>\n",
       "<table border=\"1\" class=\"dataframe\">\n",
       "  <thead>\n",
       "    <tr style=\"text-align: right;\">\n",
       "      <th></th>\n",
       "      <th>Date</th>\n",
       "      <th>workoutId</th>\n",
       "      <th>singleSetId</th>\n",
       "      <th>exerciseName</th>\n",
       "      <th>reps</th>\n",
       "      <th>weight</th>\n",
       "      <th>fake_user_id</th>\n",
       "      <th>firstWorkoutDate</th>\n",
       "      <th>lastWorkoutDate</th>\n",
       "      <th>daysOnApp</th>\n",
       "      <th>dayOfWeek</th>\n",
       "      <th>totalWorkouts</th>\n",
       "      <th>workoutNumber</th>\n",
       "    </tr>\n",
       "  </thead>\n",
       "  <tbody>\n",
       "    <tr>\n",
       "      <th>9286</th>\n",
       "      <td>2021-01-01</td>\n",
       "      <td>EBJzXMZWDw</td>\n",
       "      <td>13F3lTHO1C</td>\n",
       "      <td>Leg Raise</td>\n",
       "      <td>6</td>\n",
       "      <td>0.000000</td>\n",
       "      <td>fake_id_451</td>\n",
       "      <td>2021-01-01</td>\n",
       "      <td>2021-12-15</td>\n",
       "      <td>348</td>\n",
       "      <td>4</td>\n",
       "      <td>77</td>\n",
       "      <td>1</td>\n",
       "    </tr>\n",
       "    <tr>\n",
       "      <th>24482</th>\n",
       "      <td>2021-01-01</td>\n",
       "      <td>vCmiDAIOT1</td>\n",
       "      <td>vulqw5hsZm</td>\n",
       "      <td>Tricep Push Up</td>\n",
       "      <td>11</td>\n",
       "      <td>0.000000</td>\n",
       "      <td>fake_id_424</td>\n",
       "      <td>2021-01-01</td>\n",
       "      <td>2021-12-16</td>\n",
       "      <td>349</td>\n",
       "      <td>4</td>\n",
       "      <td>79</td>\n",
       "      <td>1</td>\n",
       "    </tr>\n",
       "    <tr>\n",
       "      <th>14498</th>\n",
       "      <td>2021-01-01</td>\n",
       "      <td>3MkG1RkBPR</td>\n",
       "      <td>iftWtoRQFE</td>\n",
       "      <td>Dumbbell Sumo Squat</td>\n",
       "      <td>15</td>\n",
       "      <td>9.071858</td>\n",
       "      <td>fake_id_459</td>\n",
       "      <td>2021-01-01</td>\n",
       "      <td>2021-12-15</td>\n",
       "      <td>348</td>\n",
       "      <td>4</td>\n",
       "      <td>96</td>\n",
       "      <td>1</td>\n",
       "    </tr>\n",
       "    <tr>\n",
       "      <th>17904</th>\n",
       "      <td>2021-01-01</td>\n",
       "      <td>5J5zE2nLYd</td>\n",
       "      <td>bY3AEmfQiu</td>\n",
       "      <td>Step Up</td>\n",
       "      <td>8</td>\n",
       "      <td>0.000000</td>\n",
       "      <td>fake_id_467</td>\n",
       "      <td>2021-01-01</td>\n",
       "      <td>2021-05-07</td>\n",
       "      <td>126</td>\n",
       "      <td>4</td>\n",
       "      <td>7</td>\n",
       "      <td>1</td>\n",
       "    </tr>\n",
       "    <tr>\n",
       "      <th>20704</th>\n",
       "      <td>2021-01-01</td>\n",
       "      <td>5J5zE2nLYd</td>\n",
       "      <td>3BbqFJlYBt</td>\n",
       "      <td>Step Up</td>\n",
       "      <td>8</td>\n",
       "      <td>0.000000</td>\n",
       "      <td>fake_id_467</td>\n",
       "      <td>2021-01-01</td>\n",
       "      <td>2021-05-07</td>\n",
       "      <td>126</td>\n",
       "      <td>4</td>\n",
       "      <td>7</td>\n",
       "      <td>1</td>\n",
       "    </tr>\n",
       "    <tr>\n",
       "      <th>6577</th>\n",
       "      <td>2021-01-01</td>\n",
       "      <td>DDJYkTlTpE</td>\n",
       "      <td>MUKBDvX6sD</td>\n",
       "      <td>Dumbbell Kickbacks</td>\n",
       "      <td>8</td>\n",
       "      <td>3.628743</td>\n",
       "      <td>fake_id_440</td>\n",
       "      <td>2021-01-01</td>\n",
       "      <td>2021-05-31</td>\n",
       "      <td>150</td>\n",
       "      <td>4</td>\n",
       "      <td>61</td>\n",
       "      <td>1</td>\n",
       "    </tr>\n",
       "    <tr>\n",
       "      <th>6214</th>\n",
       "      <td>2021-01-01</td>\n",
       "      <td>5J5zE2nLYd</td>\n",
       "      <td>HaLyx07HCK</td>\n",
       "      <td>Frog Pump</td>\n",
       "      <td>16</td>\n",
       "      <td>0.000000</td>\n",
       "      <td>fake_id_467</td>\n",
       "      <td>2021-01-01</td>\n",
       "      <td>2021-05-07</td>\n",
       "      <td>126</td>\n",
       "      <td>4</td>\n",
       "      <td>7</td>\n",
       "      <td>1</td>\n",
       "    </tr>\n",
       "    <tr>\n",
       "      <th>1413</th>\n",
       "      <td>2021-01-01</td>\n",
       "      <td>EBJzXMZWDw</td>\n",
       "      <td>O5L7IskBPY</td>\n",
       "      <td>Leg Raise</td>\n",
       "      <td>6</td>\n",
       "      <td>0.000000</td>\n",
       "      <td>fake_id_451</td>\n",
       "      <td>2021-01-01</td>\n",
       "      <td>2021-12-15</td>\n",
       "      <td>348</td>\n",
       "      <td>4</td>\n",
       "      <td>77</td>\n",
       "      <td>1</td>\n",
       "    </tr>\n",
       "    <tr>\n",
       "      <th>15686</th>\n",
       "      <td>2021-01-01</td>\n",
       "      <td>DDJYkTlTpE</td>\n",
       "      <td>dqsC7qyaky</td>\n",
       "      <td>Plank</td>\n",
       "      <td>0</td>\n",
       "      <td>0.000000</td>\n",
       "      <td>fake_id_440</td>\n",
       "      <td>2021-01-01</td>\n",
       "      <td>2021-05-31</td>\n",
       "      <td>150</td>\n",
       "      <td>4</td>\n",
       "      <td>61</td>\n",
       "      <td>1</td>\n",
       "    </tr>\n",
       "    <tr>\n",
       "      <th>23262</th>\n",
       "      <td>2021-01-01</td>\n",
       "      <td>qsgydUbd8N</td>\n",
       "      <td>99m5KB7qjC</td>\n",
       "      <td>Seated Leg Curl</td>\n",
       "      <td>12</td>\n",
       "      <td>40.823362</td>\n",
       "      <td>fake_id_457</td>\n",
       "      <td>2021-01-01</td>\n",
       "      <td>2021-12-13</td>\n",
       "      <td>346</td>\n",
       "      <td>4</td>\n",
       "      <td>87</td>\n",
       "      <td>1</td>\n",
       "    </tr>\n",
       "  </tbody>\n",
       "</table>\n",
       "</div>"
      ],
      "text/plain": [
       "            Date   workoutId singleSetId         exerciseName  reps  \\\n",
       "9286  2021-01-01  EBJzXMZWDw  13F3lTHO1C            Leg Raise     6   \n",
       "24482 2021-01-01  vCmiDAIOT1  vulqw5hsZm       Tricep Push Up    11   \n",
       "14498 2021-01-01  3MkG1RkBPR  iftWtoRQFE  Dumbbell Sumo Squat    15   \n",
       "17904 2021-01-01  5J5zE2nLYd  bY3AEmfQiu              Step Up     8   \n",
       "20704 2021-01-01  5J5zE2nLYd  3BbqFJlYBt              Step Up     8   \n",
       "6577  2021-01-01  DDJYkTlTpE  MUKBDvX6sD   Dumbbell Kickbacks     8   \n",
       "6214  2021-01-01  5J5zE2nLYd  HaLyx07HCK            Frog Pump    16   \n",
       "1413  2021-01-01  EBJzXMZWDw  O5L7IskBPY            Leg Raise     6   \n",
       "15686 2021-01-01  DDJYkTlTpE  dqsC7qyaky                Plank     0   \n",
       "23262 2021-01-01  qsgydUbd8N  99m5KB7qjC      Seated Leg Curl    12   \n",
       "\n",
       "          weight fake_user_id firstWorkoutDate lastWorkoutDate  daysOnApp  \\\n",
       "9286    0.000000  fake_id_451       2021-01-01      2021-12-15        348   \n",
       "24482   0.000000  fake_id_424       2021-01-01      2021-12-16        349   \n",
       "14498   9.071858  fake_id_459       2021-01-01      2021-12-15        348   \n",
       "17904   0.000000  fake_id_467       2021-01-01      2021-05-07        126   \n",
       "20704   0.000000  fake_id_467       2021-01-01      2021-05-07        126   \n",
       "6577    3.628743  fake_id_440       2021-01-01      2021-05-31        150   \n",
       "6214    0.000000  fake_id_467       2021-01-01      2021-05-07        126   \n",
       "1413    0.000000  fake_id_451       2021-01-01      2021-12-15        348   \n",
       "15686   0.000000  fake_id_440       2021-01-01      2021-05-31        150   \n",
       "23262  40.823362  fake_id_457       2021-01-01      2021-12-13        346   \n",
       "\n",
       "       dayOfWeek  totalWorkouts  workoutNumber  \n",
       "9286           4             77              1  \n",
       "24482          4             79              1  \n",
       "14498          4             96              1  \n",
       "17904          4              7              1  \n",
       "20704          4              7              1  \n",
       "6577           4             61              1  \n",
       "6214           4              7              1  \n",
       "1413           4             77              1  \n",
       "15686          4             61              1  \n",
       "23262          4             87              1  "
      ]
     },
     "execution_count": 34,
     "metadata": {},
     "output_type": "execute_result"
    }
   ],
   "source": [
    "# Ensure that created features look good\n",
    "df.head(10)"
   ]
  },
  {
   "cell_type": "code",
   "execution_count": 35,
   "metadata": {},
   "outputs": [
    {
     "name": "stderr",
     "output_type": "stream",
     "text": [
      "<ipython-input-35-5f28fb83fb44>:23: SettingWithCopyWarning: \n",
      "A value is trying to be set on a copy of a slice from a DataFrame\n",
      "\n",
      "See the caveats in the documentation: https://pandas.pydata.org/pandas-docs/stable/user_guide/indexing.html#returning-a-view-versus-a-copy\n",
      "  df['setNumber'][idx] = set_dict[workout][workout_set]\n"
     ]
    }
   ],
   "source": [
    "# Now let's generate features corresponding to sets in the given workout and the set number for a given exercise\n",
    "set_dict = {}\n",
    "\n",
    "for workout in df['workoutId'].unique():\n",
    "    set_dict[workout] = {}\n",
    "    temp_df = df[df['workoutId'] == workout]\n",
    "    set_number = 1\n",
    "    for workout_set in temp_df['singleSetId']:\n",
    "        set_dict[workout][workout_set] = set_number\n",
    "        set_number += 1\n",
    "        \n",
    "sets_in_workout_dict = {}\n",
    "\n",
    "for workout in set_dict.keys():\n",
    "    sets_in_workout_dict[workout] = max(set_dict[workout].values())\n",
    "    \n",
    "df['totalSetsInWorkout'] = df['workoutId'].apply(lambda workout: sets_in_workout_dict[workout])\n",
    "df['setNumber'] = 0\n",
    "\n",
    "for idx in range(len(df)):\n",
    "    workout = df['workoutId'][idx]\n",
    "    workout_set = df['singleSetId'][idx]\n",
    "    df['setNumber'][idx] = set_dict[workout][workout_set]\n",
    "\n",
    "del set_dict, sets_in_workout_dict"
   ]
  },
  {
   "cell_type": "code",
   "execution_count": 36,
   "metadata": {},
   "outputs": [
    {
     "data": {
      "text/html": [
       "<div>\n",
       "<style scoped>\n",
       "    .dataframe tbody tr th:only-of-type {\n",
       "        vertical-align: middle;\n",
       "    }\n",
       "\n",
       "    .dataframe tbody tr th {\n",
       "        vertical-align: top;\n",
       "    }\n",
       "\n",
       "    .dataframe thead th {\n",
       "        text-align: right;\n",
       "    }\n",
       "</style>\n",
       "<table border=\"1\" class=\"dataframe\">\n",
       "  <thead>\n",
       "    <tr style=\"text-align: right;\">\n",
       "      <th></th>\n",
       "      <th>Date</th>\n",
       "      <th>workoutId</th>\n",
       "      <th>singleSetId</th>\n",
       "      <th>exerciseName</th>\n",
       "      <th>reps</th>\n",
       "      <th>weight</th>\n",
       "      <th>fake_user_id</th>\n",
       "      <th>firstWorkoutDate</th>\n",
       "      <th>lastWorkoutDate</th>\n",
       "      <th>daysOnApp</th>\n",
       "      <th>dayOfWeek</th>\n",
       "      <th>totalWorkouts</th>\n",
       "      <th>workoutNumber</th>\n",
       "      <th>totalSetsInWorkout</th>\n",
       "      <th>setNumber</th>\n",
       "    </tr>\n",
       "  </thead>\n",
       "  <tbody>\n",
       "    <tr>\n",
       "      <th>9286</th>\n",
       "      <td>2021-01-01</td>\n",
       "      <td>EBJzXMZWDw</td>\n",
       "      <td>13F3lTHO1C</td>\n",
       "      <td>Leg Raise</td>\n",
       "      <td>6</td>\n",
       "      <td>0.000000</td>\n",
       "      <td>fake_id_451</td>\n",
       "      <td>2021-01-01</td>\n",
       "      <td>2021-12-15</td>\n",
       "      <td>348</td>\n",
       "      <td>4</td>\n",
       "      <td>77</td>\n",
       "      <td>1</td>\n",
       "      <td>4</td>\n",
       "      <td>1</td>\n",
       "    </tr>\n",
       "    <tr>\n",
       "      <th>24482</th>\n",
       "      <td>2021-01-01</td>\n",
       "      <td>vCmiDAIOT1</td>\n",
       "      <td>vulqw5hsZm</td>\n",
       "      <td>Tricep Push Up</td>\n",
       "      <td>11</td>\n",
       "      <td>0.000000</td>\n",
       "      <td>fake_id_424</td>\n",
       "      <td>2021-01-01</td>\n",
       "      <td>2021-12-16</td>\n",
       "      <td>349</td>\n",
       "      <td>4</td>\n",
       "      <td>79</td>\n",
       "      <td>1</td>\n",
       "      <td>4</td>\n",
       "      <td>1</td>\n",
       "    </tr>\n",
       "    <tr>\n",
       "      <th>14498</th>\n",
       "      <td>2021-01-01</td>\n",
       "      <td>3MkG1RkBPR</td>\n",
       "      <td>iftWtoRQFE</td>\n",
       "      <td>Dumbbell Sumo Squat</td>\n",
       "      <td>15</td>\n",
       "      <td>9.071858</td>\n",
       "      <td>fake_id_459</td>\n",
       "      <td>2021-01-01</td>\n",
       "      <td>2021-12-15</td>\n",
       "      <td>348</td>\n",
       "      <td>4</td>\n",
       "      <td>96</td>\n",
       "      <td>1</td>\n",
       "      <td>3</td>\n",
       "      <td>1</td>\n",
       "    </tr>\n",
       "    <tr>\n",
       "      <th>17904</th>\n",
       "      <td>2021-01-01</td>\n",
       "      <td>5J5zE2nLYd</td>\n",
       "      <td>bY3AEmfQiu</td>\n",
       "      <td>Step Up</td>\n",
       "      <td>8</td>\n",
       "      <td>0.000000</td>\n",
       "      <td>fake_id_467</td>\n",
       "      <td>2021-01-01</td>\n",
       "      <td>2021-05-07</td>\n",
       "      <td>126</td>\n",
       "      <td>4</td>\n",
       "      <td>7</td>\n",
       "      <td>1</td>\n",
       "      <td>9</td>\n",
       "      <td>1</td>\n",
       "    </tr>\n",
       "    <tr>\n",
       "      <th>20704</th>\n",
       "      <td>2021-01-01</td>\n",
       "      <td>5J5zE2nLYd</td>\n",
       "      <td>3BbqFJlYBt</td>\n",
       "      <td>Step Up</td>\n",
       "      <td>8</td>\n",
       "      <td>0.000000</td>\n",
       "      <td>fake_id_467</td>\n",
       "      <td>2021-01-01</td>\n",
       "      <td>2021-05-07</td>\n",
       "      <td>126</td>\n",
       "      <td>4</td>\n",
       "      <td>7</td>\n",
       "      <td>1</td>\n",
       "      <td>9</td>\n",
       "      <td>2</td>\n",
       "    </tr>\n",
       "    <tr>\n",
       "      <th>6577</th>\n",
       "      <td>2021-01-01</td>\n",
       "      <td>DDJYkTlTpE</td>\n",
       "      <td>MUKBDvX6sD</td>\n",
       "      <td>Dumbbell Kickbacks</td>\n",
       "      <td>8</td>\n",
       "      <td>3.628743</td>\n",
       "      <td>fake_id_440</td>\n",
       "      <td>2021-01-01</td>\n",
       "      <td>2021-05-31</td>\n",
       "      <td>150</td>\n",
       "      <td>4</td>\n",
       "      <td>61</td>\n",
       "      <td>1</td>\n",
       "      <td>5</td>\n",
       "      <td>1</td>\n",
       "    </tr>\n",
       "    <tr>\n",
       "      <th>6214</th>\n",
       "      <td>2021-01-01</td>\n",
       "      <td>5J5zE2nLYd</td>\n",
       "      <td>HaLyx07HCK</td>\n",
       "      <td>Frog Pump</td>\n",
       "      <td>16</td>\n",
       "      <td>0.000000</td>\n",
       "      <td>fake_id_467</td>\n",
       "      <td>2021-01-01</td>\n",
       "      <td>2021-05-07</td>\n",
       "      <td>126</td>\n",
       "      <td>4</td>\n",
       "      <td>7</td>\n",
       "      <td>1</td>\n",
       "      <td>9</td>\n",
       "      <td>3</td>\n",
       "    </tr>\n",
       "    <tr>\n",
       "      <th>1413</th>\n",
       "      <td>2021-01-01</td>\n",
       "      <td>EBJzXMZWDw</td>\n",
       "      <td>O5L7IskBPY</td>\n",
       "      <td>Leg Raise</td>\n",
       "      <td>6</td>\n",
       "      <td>0.000000</td>\n",
       "      <td>fake_id_451</td>\n",
       "      <td>2021-01-01</td>\n",
       "      <td>2021-12-15</td>\n",
       "      <td>348</td>\n",
       "      <td>4</td>\n",
       "      <td>77</td>\n",
       "      <td>1</td>\n",
       "      <td>4</td>\n",
       "      <td>2</td>\n",
       "    </tr>\n",
       "    <tr>\n",
       "      <th>15686</th>\n",
       "      <td>2021-01-01</td>\n",
       "      <td>DDJYkTlTpE</td>\n",
       "      <td>dqsC7qyaky</td>\n",
       "      <td>Plank</td>\n",
       "      <td>0</td>\n",
       "      <td>0.000000</td>\n",
       "      <td>fake_id_440</td>\n",
       "      <td>2021-01-01</td>\n",
       "      <td>2021-05-31</td>\n",
       "      <td>150</td>\n",
       "      <td>4</td>\n",
       "      <td>61</td>\n",
       "      <td>1</td>\n",
       "      <td>5</td>\n",
       "      <td>2</td>\n",
       "    </tr>\n",
       "    <tr>\n",
       "      <th>23262</th>\n",
       "      <td>2021-01-01</td>\n",
       "      <td>qsgydUbd8N</td>\n",
       "      <td>99m5KB7qjC</td>\n",
       "      <td>Seated Leg Curl</td>\n",
       "      <td>12</td>\n",
       "      <td>40.823362</td>\n",
       "      <td>fake_id_457</td>\n",
       "      <td>2021-01-01</td>\n",
       "      <td>2021-12-13</td>\n",
       "      <td>346</td>\n",
       "      <td>4</td>\n",
       "      <td>87</td>\n",
       "      <td>1</td>\n",
       "      <td>4</td>\n",
       "      <td>1</td>\n",
       "    </tr>\n",
       "  </tbody>\n",
       "</table>\n",
       "</div>"
      ],
      "text/plain": [
       "            Date   workoutId singleSetId         exerciseName  reps  \\\n",
       "9286  2021-01-01  EBJzXMZWDw  13F3lTHO1C            Leg Raise     6   \n",
       "24482 2021-01-01  vCmiDAIOT1  vulqw5hsZm       Tricep Push Up    11   \n",
       "14498 2021-01-01  3MkG1RkBPR  iftWtoRQFE  Dumbbell Sumo Squat    15   \n",
       "17904 2021-01-01  5J5zE2nLYd  bY3AEmfQiu              Step Up     8   \n",
       "20704 2021-01-01  5J5zE2nLYd  3BbqFJlYBt              Step Up     8   \n",
       "6577  2021-01-01  DDJYkTlTpE  MUKBDvX6sD   Dumbbell Kickbacks     8   \n",
       "6214  2021-01-01  5J5zE2nLYd  HaLyx07HCK            Frog Pump    16   \n",
       "1413  2021-01-01  EBJzXMZWDw  O5L7IskBPY            Leg Raise     6   \n",
       "15686 2021-01-01  DDJYkTlTpE  dqsC7qyaky                Plank     0   \n",
       "23262 2021-01-01  qsgydUbd8N  99m5KB7qjC      Seated Leg Curl    12   \n",
       "\n",
       "          weight fake_user_id firstWorkoutDate lastWorkoutDate  daysOnApp  \\\n",
       "9286    0.000000  fake_id_451       2021-01-01      2021-12-15        348   \n",
       "24482   0.000000  fake_id_424       2021-01-01      2021-12-16        349   \n",
       "14498   9.071858  fake_id_459       2021-01-01      2021-12-15        348   \n",
       "17904   0.000000  fake_id_467       2021-01-01      2021-05-07        126   \n",
       "20704   0.000000  fake_id_467       2021-01-01      2021-05-07        126   \n",
       "6577    3.628743  fake_id_440       2021-01-01      2021-05-31        150   \n",
       "6214    0.000000  fake_id_467       2021-01-01      2021-05-07        126   \n",
       "1413    0.000000  fake_id_451       2021-01-01      2021-12-15        348   \n",
       "15686   0.000000  fake_id_440       2021-01-01      2021-05-31        150   \n",
       "23262  40.823362  fake_id_457       2021-01-01      2021-12-13        346   \n",
       "\n",
       "       dayOfWeek  totalWorkouts  workoutNumber  totalSetsInWorkout  setNumber  \n",
       "9286           4             77              1                   4          1  \n",
       "24482          4             79              1                   4          1  \n",
       "14498          4             96              1                   3          1  \n",
       "17904          4              7              1                   9          1  \n",
       "20704          4              7              1                   9          2  \n",
       "6577           4             61              1                   5          1  \n",
       "6214           4              7              1                   9          3  \n",
       "1413           4             77              1                   4          2  \n",
       "15686          4             61              1                   5          2  \n",
       "23262          4             87              1                   4          1  "
      ]
     },
     "execution_count": 36,
     "metadata": {},
     "output_type": "execute_result"
    }
   ],
   "source": [
    "# Ensure that created features look good\n",
    "df.head(10)"
   ]
  },
  {
   "cell_type": "code",
   "execution_count": 37,
   "metadata": {},
   "outputs": [
    {
     "name": "stderr",
     "output_type": "stream",
     "text": [
      "<ipython-input-37-f4c240829c28>:29: SettingWithCopyWarning: \n",
      "A value is trying to be set on a copy of a slice from a DataFrame\n",
      "\n",
      "See the caveats in the documentation: https://pandas.pydata.org/pandas-docs/stable/user_guide/indexing.html#returning-a-view-versus-a-copy\n",
      "  df['setsOfExerciseWorkout'][idx] = workout_exercise_dict[workout][exercise]\n",
      "<ipython-input-37-f4c240829c28>:30: SettingWithCopyWarning: \n",
      "A value is trying to be set on a copy of a slice from a DataFrame\n",
      "\n",
      "See the caveats in the documentation: https://pandas.pydata.org/pandas-docs/stable/user_guide/indexing.html#returning-a-view-versus-a-copy\n",
      "  df['setsOfExerciseTotal'][idx] = total_exercise_dict[user][exercise]\n"
     ]
    }
   ],
   "source": [
    "# Now generate feature for number of sets of each exercise per workout and number of sets of given exercise completed\n",
    "# in aggregate\n",
    "workout_exercise_dict = {}\n",
    "\n",
    "for workout in df['workoutId'].unique():\n",
    "    temp_df = df[df['workoutId'] == workout]\n",
    "    workout_exercise_dict[workout] = {}\n",
    "    exercise_counts = dict(temp_df.groupby('exerciseName').agg('count')['Date'])\n",
    "    for key in exercise_counts.keys():\n",
    "        workout_exercise_dict[workout][key] = exercise_counts[key]\n",
    "        \n",
    "total_exercise_dict = {}\n",
    "\n",
    "for user in df['fake_user_id'].unique():\n",
    "    temp_df = df[df['fake_user_id'] == user]\n",
    "    exercise_counts = dict(temp_df.groupby('exerciseName').agg('count')['Date'])\n",
    "    total_exercise_dict[user] = {}\n",
    "    for key in exercise_counts.keys():\n",
    "        total_exercise_dict[user][key] = exercise_counts[key]\n",
    "        \n",
    "df['setsOfExerciseWorkout'] = 0\n",
    "df['setsOfExerciseTotal'] = 0\n",
    "df['totalSets'] = df['fake_user_id'].apply(lambda user: sum(total_exercise_dict[user].values()))\n",
    "\n",
    "for idx in range(len(df)):\n",
    "    workout = df['workoutId'][idx]\n",
    "    exercise = df['exerciseName'][idx]\n",
    "    user = df['fake_user_id'][idx]\n",
    "    df['setsOfExerciseWorkout'][idx] = workout_exercise_dict[workout][exercise]\n",
    "    df['setsOfExerciseTotal'][idx] = total_exercise_dict[user][exercise]\n",
    "    \n",
    "del workout_exercise_dict, total_exercise_dict"
   ]
  },
  {
   "cell_type": "code",
   "execution_count": 38,
   "metadata": {},
   "outputs": [
    {
     "data": {
      "text/html": [
       "<div>\n",
       "<style scoped>\n",
       "    .dataframe tbody tr th:only-of-type {\n",
       "        vertical-align: middle;\n",
       "    }\n",
       "\n",
       "    .dataframe tbody tr th {\n",
       "        vertical-align: top;\n",
       "    }\n",
       "\n",
       "    .dataframe thead th {\n",
       "        text-align: right;\n",
       "    }\n",
       "</style>\n",
       "<table border=\"1\" class=\"dataframe\">\n",
       "  <thead>\n",
       "    <tr style=\"text-align: right;\">\n",
       "      <th></th>\n",
       "      <th>Date</th>\n",
       "      <th>workoutId</th>\n",
       "      <th>singleSetId</th>\n",
       "      <th>exerciseName</th>\n",
       "      <th>reps</th>\n",
       "      <th>weight</th>\n",
       "      <th>fake_user_id</th>\n",
       "      <th>firstWorkoutDate</th>\n",
       "      <th>lastWorkoutDate</th>\n",
       "      <th>daysOnApp</th>\n",
       "      <th>dayOfWeek</th>\n",
       "      <th>totalWorkouts</th>\n",
       "      <th>workoutNumber</th>\n",
       "      <th>totalSetsInWorkout</th>\n",
       "      <th>setNumber</th>\n",
       "      <th>setsOfExerciseWorkout</th>\n",
       "      <th>setsOfExerciseTotal</th>\n",
       "      <th>totalSets</th>\n",
       "    </tr>\n",
       "  </thead>\n",
       "  <tbody>\n",
       "    <tr>\n",
       "      <th>9286</th>\n",
       "      <td>2021-01-01</td>\n",
       "      <td>EBJzXMZWDw</td>\n",
       "      <td>13F3lTHO1C</td>\n",
       "      <td>Leg Raise</td>\n",
       "      <td>6</td>\n",
       "      <td>0.000000</td>\n",
       "      <td>fake_id_451</td>\n",
       "      <td>2021-01-01</td>\n",
       "      <td>2021-12-15</td>\n",
       "      <td>348</td>\n",
       "      <td>4</td>\n",
       "      <td>77</td>\n",
       "      <td>1</td>\n",
       "      <td>4</td>\n",
       "      <td>1</td>\n",
       "      <td>4</td>\n",
       "      <td>55</td>\n",
       "      <td>378</td>\n",
       "    </tr>\n",
       "    <tr>\n",
       "      <th>24482</th>\n",
       "      <td>2021-01-01</td>\n",
       "      <td>vCmiDAIOT1</td>\n",
       "      <td>vulqw5hsZm</td>\n",
       "      <td>Tricep Push Up</td>\n",
       "      <td>11</td>\n",
       "      <td>0.000000</td>\n",
       "      <td>fake_id_424</td>\n",
       "      <td>2021-01-01</td>\n",
       "      <td>2021-12-16</td>\n",
       "      <td>349</td>\n",
       "      <td>4</td>\n",
       "      <td>79</td>\n",
       "      <td>1</td>\n",
       "      <td>4</td>\n",
       "      <td>1</td>\n",
       "      <td>4</td>\n",
       "      <td>17</td>\n",
       "      <td>471</td>\n",
       "    </tr>\n",
       "    <tr>\n",
       "      <th>14498</th>\n",
       "      <td>2021-01-01</td>\n",
       "      <td>3MkG1RkBPR</td>\n",
       "      <td>iftWtoRQFE</td>\n",
       "      <td>Dumbbell Sumo Squat</td>\n",
       "      <td>15</td>\n",
       "      <td>9.071858</td>\n",
       "      <td>fake_id_459</td>\n",
       "      <td>2021-01-01</td>\n",
       "      <td>2021-12-15</td>\n",
       "      <td>348</td>\n",
       "      <td>4</td>\n",
       "      <td>96</td>\n",
       "      <td>1</td>\n",
       "      <td>3</td>\n",
       "      <td>1</td>\n",
       "      <td>3</td>\n",
       "      <td>18</td>\n",
       "      <td>512</td>\n",
       "    </tr>\n",
       "    <tr>\n",
       "      <th>17904</th>\n",
       "      <td>2021-01-01</td>\n",
       "      <td>5J5zE2nLYd</td>\n",
       "      <td>bY3AEmfQiu</td>\n",
       "      <td>Step Up</td>\n",
       "      <td>8</td>\n",
       "      <td>0.000000</td>\n",
       "      <td>fake_id_467</td>\n",
       "      <td>2021-01-01</td>\n",
       "      <td>2021-05-07</td>\n",
       "      <td>126</td>\n",
       "      <td>4</td>\n",
       "      <td>7</td>\n",
       "      <td>1</td>\n",
       "      <td>9</td>\n",
       "      <td>1</td>\n",
       "      <td>4</td>\n",
       "      <td>4</td>\n",
       "      <td>55</td>\n",
       "    </tr>\n",
       "    <tr>\n",
       "      <th>20704</th>\n",
       "      <td>2021-01-01</td>\n",
       "      <td>5J5zE2nLYd</td>\n",
       "      <td>3BbqFJlYBt</td>\n",
       "      <td>Step Up</td>\n",
       "      <td>8</td>\n",
       "      <td>0.000000</td>\n",
       "      <td>fake_id_467</td>\n",
       "      <td>2021-01-01</td>\n",
       "      <td>2021-05-07</td>\n",
       "      <td>126</td>\n",
       "      <td>4</td>\n",
       "      <td>7</td>\n",
       "      <td>1</td>\n",
       "      <td>9</td>\n",
       "      <td>2</td>\n",
       "      <td>4</td>\n",
       "      <td>4</td>\n",
       "      <td>55</td>\n",
       "    </tr>\n",
       "    <tr>\n",
       "      <th>6577</th>\n",
       "      <td>2021-01-01</td>\n",
       "      <td>DDJYkTlTpE</td>\n",
       "      <td>MUKBDvX6sD</td>\n",
       "      <td>Dumbbell Kickbacks</td>\n",
       "      <td>8</td>\n",
       "      <td>3.628743</td>\n",
       "      <td>fake_id_440</td>\n",
       "      <td>2021-01-01</td>\n",
       "      <td>2021-05-31</td>\n",
       "      <td>150</td>\n",
       "      <td>4</td>\n",
       "      <td>61</td>\n",
       "      <td>1</td>\n",
       "      <td>5</td>\n",
       "      <td>1</td>\n",
       "      <td>3</td>\n",
       "      <td>40</td>\n",
       "      <td>447</td>\n",
       "    </tr>\n",
       "    <tr>\n",
       "      <th>6214</th>\n",
       "      <td>2021-01-01</td>\n",
       "      <td>5J5zE2nLYd</td>\n",
       "      <td>HaLyx07HCK</td>\n",
       "      <td>Frog Pump</td>\n",
       "      <td>16</td>\n",
       "      <td>0.000000</td>\n",
       "      <td>fake_id_467</td>\n",
       "      <td>2021-01-01</td>\n",
       "      <td>2021-05-07</td>\n",
       "      <td>126</td>\n",
       "      <td>4</td>\n",
       "      <td>7</td>\n",
       "      <td>1</td>\n",
       "      <td>9</td>\n",
       "      <td>3</td>\n",
       "      <td>5</td>\n",
       "      <td>5</td>\n",
       "      <td>55</td>\n",
       "    </tr>\n",
       "    <tr>\n",
       "      <th>1413</th>\n",
       "      <td>2021-01-01</td>\n",
       "      <td>EBJzXMZWDw</td>\n",
       "      <td>O5L7IskBPY</td>\n",
       "      <td>Leg Raise</td>\n",
       "      <td>6</td>\n",
       "      <td>0.000000</td>\n",
       "      <td>fake_id_451</td>\n",
       "      <td>2021-01-01</td>\n",
       "      <td>2021-12-15</td>\n",
       "      <td>348</td>\n",
       "      <td>4</td>\n",
       "      <td>77</td>\n",
       "      <td>1</td>\n",
       "      <td>4</td>\n",
       "      <td>2</td>\n",
       "      <td>4</td>\n",
       "      <td>55</td>\n",
       "      <td>378</td>\n",
       "    </tr>\n",
       "    <tr>\n",
       "      <th>15686</th>\n",
       "      <td>2021-01-01</td>\n",
       "      <td>DDJYkTlTpE</td>\n",
       "      <td>dqsC7qyaky</td>\n",
       "      <td>Plank</td>\n",
       "      <td>0</td>\n",
       "      <td>0.000000</td>\n",
       "      <td>fake_id_440</td>\n",
       "      <td>2021-01-01</td>\n",
       "      <td>2021-05-31</td>\n",
       "      <td>150</td>\n",
       "      <td>4</td>\n",
       "      <td>61</td>\n",
       "      <td>1</td>\n",
       "      <td>5</td>\n",
       "      <td>2</td>\n",
       "      <td>2</td>\n",
       "      <td>18</td>\n",
       "      <td>447</td>\n",
       "    </tr>\n",
       "    <tr>\n",
       "      <th>23262</th>\n",
       "      <td>2021-01-01</td>\n",
       "      <td>qsgydUbd8N</td>\n",
       "      <td>99m5KB7qjC</td>\n",
       "      <td>Seated Leg Curl</td>\n",
       "      <td>12</td>\n",
       "      <td>40.823362</td>\n",
       "      <td>fake_id_457</td>\n",
       "      <td>2021-01-01</td>\n",
       "      <td>2021-12-13</td>\n",
       "      <td>346</td>\n",
       "      <td>4</td>\n",
       "      <td>87</td>\n",
       "      <td>1</td>\n",
       "      <td>4</td>\n",
       "      <td>1</td>\n",
       "      <td>4</td>\n",
       "      <td>126</td>\n",
       "      <td>656</td>\n",
       "    </tr>\n",
       "  </tbody>\n",
       "</table>\n",
       "</div>"
      ],
      "text/plain": [
       "            Date   workoutId singleSetId         exerciseName  reps  \\\n",
       "9286  2021-01-01  EBJzXMZWDw  13F3lTHO1C            Leg Raise     6   \n",
       "24482 2021-01-01  vCmiDAIOT1  vulqw5hsZm       Tricep Push Up    11   \n",
       "14498 2021-01-01  3MkG1RkBPR  iftWtoRQFE  Dumbbell Sumo Squat    15   \n",
       "17904 2021-01-01  5J5zE2nLYd  bY3AEmfQiu              Step Up     8   \n",
       "20704 2021-01-01  5J5zE2nLYd  3BbqFJlYBt              Step Up     8   \n",
       "6577  2021-01-01  DDJYkTlTpE  MUKBDvX6sD   Dumbbell Kickbacks     8   \n",
       "6214  2021-01-01  5J5zE2nLYd  HaLyx07HCK            Frog Pump    16   \n",
       "1413  2021-01-01  EBJzXMZWDw  O5L7IskBPY            Leg Raise     6   \n",
       "15686 2021-01-01  DDJYkTlTpE  dqsC7qyaky                Plank     0   \n",
       "23262 2021-01-01  qsgydUbd8N  99m5KB7qjC      Seated Leg Curl    12   \n",
       "\n",
       "          weight fake_user_id firstWorkoutDate lastWorkoutDate  daysOnApp  \\\n",
       "9286    0.000000  fake_id_451       2021-01-01      2021-12-15        348   \n",
       "24482   0.000000  fake_id_424       2021-01-01      2021-12-16        349   \n",
       "14498   9.071858  fake_id_459       2021-01-01      2021-12-15        348   \n",
       "17904   0.000000  fake_id_467       2021-01-01      2021-05-07        126   \n",
       "20704   0.000000  fake_id_467       2021-01-01      2021-05-07        126   \n",
       "6577    3.628743  fake_id_440       2021-01-01      2021-05-31        150   \n",
       "6214    0.000000  fake_id_467       2021-01-01      2021-05-07        126   \n",
       "1413    0.000000  fake_id_451       2021-01-01      2021-12-15        348   \n",
       "15686   0.000000  fake_id_440       2021-01-01      2021-05-31        150   \n",
       "23262  40.823362  fake_id_457       2021-01-01      2021-12-13        346   \n",
       "\n",
       "       dayOfWeek  totalWorkouts  workoutNumber  totalSetsInWorkout  setNumber  \\\n",
       "9286           4             77              1                   4          1   \n",
       "24482          4             79              1                   4          1   \n",
       "14498          4             96              1                   3          1   \n",
       "17904          4              7              1                   9          1   \n",
       "20704          4              7              1                   9          2   \n",
       "6577           4             61              1                   5          1   \n",
       "6214           4              7              1                   9          3   \n",
       "1413           4             77              1                   4          2   \n",
       "15686          4             61              1                   5          2   \n",
       "23262          4             87              1                   4          1   \n",
       "\n",
       "       setsOfExerciseWorkout  setsOfExerciseTotal  totalSets  \n",
       "9286                       4                   55        378  \n",
       "24482                      4                   17        471  \n",
       "14498                      3                   18        512  \n",
       "17904                      4                    4         55  \n",
       "20704                      4                    4         55  \n",
       "6577                       3                   40        447  \n",
       "6214                       5                    5         55  \n",
       "1413                       4                   55        378  \n",
       "15686                      2                   18        447  \n",
       "23262                      4                  126        656  "
      ]
     },
     "execution_count": 38,
     "metadata": {},
     "output_type": "execute_result"
    }
   ],
   "source": [
    "# Ensure that created features look good\n",
    "df.head(10)"
   ]
  },
  {
   "cell_type": "code",
   "execution_count": 39,
   "metadata": {},
   "outputs": [],
   "source": [
    "# Now that we are done with 'singleSetId' let's drop it\n",
    "df.drop(columns=['singleSetId'], inplace=True)"
   ]
  },
  {
   "cell_type": "code",
   "execution_count": 40,
   "metadata": {},
   "outputs": [],
   "source": [
    "# Furthermore, let's reset our index\n",
    "df.reset_index(drop=True, inplace=True)"
   ]
  },
  {
   "cell_type": "code",
   "execution_count": 41,
   "metadata": {},
   "outputs": [
    {
     "name": "stderr",
     "output_type": "stream",
     "text": [
      "<ipython-input-41-a4ea3b9e0c8a>:29: SettingWithCopyWarning: \n",
      "A value is trying to be set on a copy of a slice from a DataFrame\n",
      "\n",
      "See the caveats in the documentation: https://pandas.pydata.org/pandas-docs/stable/user_guide/indexing.html#returning-a-view-versus-a-copy\n",
      "  df['daysSinceLastWorkout'][idx] = days_since_last_dict[user][workout_num]\n",
      "C:\\Users\\mramsey002\\Anaconda3\\lib\\site-packages\\pandas\\core\\indexing.py:1732: SettingWithCopyWarning: \n",
      "A value is trying to be set on a copy of a slice from a DataFrame\n",
      "\n",
      "See the caveats in the documentation: https://pandas.pydata.org/pandas-docs/stable/user_guide/indexing.html#returning-a-view-versus-a-copy\n",
      "  self._setitem_single_block(indexer, value, name)\n"
     ]
    }
   ],
   "source": [
    "# Create a new feature for time since last workout\n",
    "workout_date_dict = {}\n",
    "\n",
    "for idx in range(len(df)):\n",
    "    workout = df['workoutId'][idx]\n",
    "    date = df['Date'][idx]\n",
    "    user = df['fake_user_id'][idx]\n",
    "    workout_num = df['workoutNumber'][idx]\n",
    "    if user not in workout_date_dict:\n",
    "        workout_date_dict[user] = {}\n",
    "    if workout_num not in workout_date_dict[user]:\n",
    "        workout_date_dict[user][workout_num] = date\n",
    "\n",
    "days_since_last_dict = {}\n",
    "\n",
    "for user, date_dict in workout_date_dict.items():\n",
    "    days_since_last_dict[user] = {}\n",
    "    for workout_num in date_dict.keys():\n",
    "        if workout_num == 1:\n",
    "            days_since_last_dict[user][workout_num] = np.nan\n",
    "        else:\n",
    "            days_since_last_dict[user][workout_num] = np.abs((workout_date_dict[user][workout_num]-workout_date_dict[user][workout_num-1]).days)\n",
    "        \n",
    "df['daysSinceLastWorkout'] = 0        \n",
    "\n",
    "for idx in range(len(df)):\n",
    "    user = df['fake_user_id'][idx]\n",
    "    workout_num = df['workoutNumber'][idx]\n",
    "    df['daysSinceLastWorkout'][idx] = days_since_last_dict[user][workout_num]\n",
    "\n",
    "del workout_date_dict, days_since_last_dict"
   ]
  },
  {
   "cell_type": "code",
   "execution_count": 42,
   "metadata": {},
   "outputs": [
    {
     "data": {
      "text/html": [
       "<div>\n",
       "<style scoped>\n",
       "    .dataframe tbody tr th:only-of-type {\n",
       "        vertical-align: middle;\n",
       "    }\n",
       "\n",
       "    .dataframe tbody tr th {\n",
       "        vertical-align: top;\n",
       "    }\n",
       "\n",
       "    .dataframe thead th {\n",
       "        text-align: right;\n",
       "    }\n",
       "</style>\n",
       "<table border=\"1\" class=\"dataframe\">\n",
       "  <thead>\n",
       "    <tr style=\"text-align: right;\">\n",
       "      <th></th>\n",
       "      <th>Date</th>\n",
       "      <th>workoutId</th>\n",
       "      <th>exerciseName</th>\n",
       "      <th>reps</th>\n",
       "      <th>weight</th>\n",
       "      <th>fake_user_id</th>\n",
       "      <th>firstWorkoutDate</th>\n",
       "      <th>lastWorkoutDate</th>\n",
       "      <th>daysOnApp</th>\n",
       "      <th>dayOfWeek</th>\n",
       "      <th>totalWorkouts</th>\n",
       "      <th>workoutNumber</th>\n",
       "      <th>totalSetsInWorkout</th>\n",
       "      <th>setNumber</th>\n",
       "      <th>setsOfExerciseWorkout</th>\n",
       "      <th>setsOfExerciseTotal</th>\n",
       "      <th>totalSets</th>\n",
       "      <th>daysSinceLastWorkout</th>\n",
       "    </tr>\n",
       "  </thead>\n",
       "  <tbody>\n",
       "    <tr>\n",
       "      <th>25341</th>\n",
       "      <td>2021-12-16</td>\n",
       "      <td>2HD893ASAD</td>\n",
       "      <td>Barbell Incline Bench Press</td>\n",
       "      <td>8</td>\n",
       "      <td>24.947610</td>\n",
       "      <td>fake_id_424</td>\n",
       "      <td>2021-01-01</td>\n",
       "      <td>2021-12-16</td>\n",
       "      <td>349</td>\n",
       "      <td>3</td>\n",
       "      <td>79</td>\n",
       "      <td>79</td>\n",
       "      <td>9</td>\n",
       "      <td>3</td>\n",
       "      <td>3</td>\n",
       "      <td>26</td>\n",
       "      <td>471</td>\n",
       "      <td>8.0</td>\n",
       "    </tr>\n",
       "    <tr>\n",
       "      <th>25342</th>\n",
       "      <td>2021-12-16</td>\n",
       "      <td>6n4jFputZp</td>\n",
       "      <td>Seated Leg Curl</td>\n",
       "      <td>10</td>\n",
       "      <td>63.503007</td>\n",
       "      <td>fake_id_449</td>\n",
       "      <td>2021-01-04</td>\n",
       "      <td>2021-12-16</td>\n",
       "      <td>346</td>\n",
       "      <td>3</td>\n",
       "      <td>85</td>\n",
       "      <td>85</td>\n",
       "      <td>6</td>\n",
       "      <td>4</td>\n",
       "      <td>4</td>\n",
       "      <td>19</td>\n",
       "      <td>435</td>\n",
       "      <td>2.0</td>\n",
       "    </tr>\n",
       "    <tr>\n",
       "      <th>25343</th>\n",
       "      <td>2021-12-16</td>\n",
       "      <td>6n4jFputZp</td>\n",
       "      <td>Seated Leg Curl</td>\n",
       "      <td>10</td>\n",
       "      <td>63.503007</td>\n",
       "      <td>fake_id_449</td>\n",
       "      <td>2021-01-04</td>\n",
       "      <td>2021-12-16</td>\n",
       "      <td>346</td>\n",
       "      <td>3</td>\n",
       "      <td>85</td>\n",
       "      <td>85</td>\n",
       "      <td>6</td>\n",
       "      <td>5</td>\n",
       "      <td>4</td>\n",
       "      <td>19</td>\n",
       "      <td>435</td>\n",
       "      <td>2.0</td>\n",
       "    </tr>\n",
       "    <tr>\n",
       "      <th>25344</th>\n",
       "      <td>2021-12-16</td>\n",
       "      <td>2HD893ASAD</td>\n",
       "      <td>Exercise Ball Crunch</td>\n",
       "      <td>20</td>\n",
       "      <td>0.000000</td>\n",
       "      <td>fake_id_424</td>\n",
       "      <td>2021-01-01</td>\n",
       "      <td>2021-12-16</td>\n",
       "      <td>349</td>\n",
       "      <td>3</td>\n",
       "      <td>79</td>\n",
       "      <td>79</td>\n",
       "      <td>9</td>\n",
       "      <td>4</td>\n",
       "      <td>3</td>\n",
       "      <td>19</td>\n",
       "      <td>471</td>\n",
       "      <td>8.0</td>\n",
       "    </tr>\n",
       "    <tr>\n",
       "      <th>25345</th>\n",
       "      <td>2021-12-16</td>\n",
       "      <td>6n4jFputZp</td>\n",
       "      <td>Single Leg Hip Thrust</td>\n",
       "      <td>8</td>\n",
       "      <td>0.000000</td>\n",
       "      <td>fake_id_449</td>\n",
       "      <td>2021-01-04</td>\n",
       "      <td>2021-12-16</td>\n",
       "      <td>346</td>\n",
       "      <td>3</td>\n",
       "      <td>85</td>\n",
       "      <td>85</td>\n",
       "      <td>6</td>\n",
       "      <td>6</td>\n",
       "      <td>2</td>\n",
       "      <td>10</td>\n",
       "      <td>435</td>\n",
       "      <td>2.0</td>\n",
       "    </tr>\n",
       "    <tr>\n",
       "      <th>25346</th>\n",
       "      <td>2021-12-16</td>\n",
       "      <td>2HD893ASAD</td>\n",
       "      <td>Shotgun Row</td>\n",
       "      <td>8</td>\n",
       "      <td>10.205840</td>\n",
       "      <td>fake_id_424</td>\n",
       "      <td>2021-01-01</td>\n",
       "      <td>2021-12-16</td>\n",
       "      <td>349</td>\n",
       "      <td>3</td>\n",
       "      <td>79</td>\n",
       "      <td>79</td>\n",
       "      <td>9</td>\n",
       "      <td>5</td>\n",
       "      <td>3</td>\n",
       "      <td>9</td>\n",
       "      <td>471</td>\n",
       "      <td>8.0</td>\n",
       "    </tr>\n",
       "    <tr>\n",
       "      <th>25347</th>\n",
       "      <td>2021-12-16</td>\n",
       "      <td>2HD893ASAD</td>\n",
       "      <td>Shotgun Row</td>\n",
       "      <td>8</td>\n",
       "      <td>10.205840</td>\n",
       "      <td>fake_id_424</td>\n",
       "      <td>2021-01-01</td>\n",
       "      <td>2021-12-16</td>\n",
       "      <td>349</td>\n",
       "      <td>3</td>\n",
       "      <td>79</td>\n",
       "      <td>79</td>\n",
       "      <td>9</td>\n",
       "      <td>6</td>\n",
       "      <td>3</td>\n",
       "      <td>9</td>\n",
       "      <td>471</td>\n",
       "      <td>8.0</td>\n",
       "    </tr>\n",
       "    <tr>\n",
       "      <th>25348</th>\n",
       "      <td>2021-12-16</td>\n",
       "      <td>2HD893ASAD</td>\n",
       "      <td>Shotgun Row</td>\n",
       "      <td>8</td>\n",
       "      <td>10.205840</td>\n",
       "      <td>fake_id_424</td>\n",
       "      <td>2021-01-01</td>\n",
       "      <td>2021-12-16</td>\n",
       "      <td>349</td>\n",
       "      <td>3</td>\n",
       "      <td>79</td>\n",
       "      <td>79</td>\n",
       "      <td>9</td>\n",
       "      <td>7</td>\n",
       "      <td>3</td>\n",
       "      <td>9</td>\n",
       "      <td>471</td>\n",
       "      <td>8.0</td>\n",
       "    </tr>\n",
       "    <tr>\n",
       "      <th>25349</th>\n",
       "      <td>2021-12-16</td>\n",
       "      <td>2HD893ASAD</td>\n",
       "      <td>Exercise Ball Crunch</td>\n",
       "      <td>20</td>\n",
       "      <td>0.000000</td>\n",
       "      <td>fake_id_424</td>\n",
       "      <td>2021-01-01</td>\n",
       "      <td>2021-12-16</td>\n",
       "      <td>349</td>\n",
       "      <td>3</td>\n",
       "      <td>79</td>\n",
       "      <td>79</td>\n",
       "      <td>9</td>\n",
       "      <td>8</td>\n",
       "      <td>3</td>\n",
       "      <td>19</td>\n",
       "      <td>471</td>\n",
       "      <td>8.0</td>\n",
       "    </tr>\n",
       "    <tr>\n",
       "      <th>25350</th>\n",
       "      <td>2021-12-16</td>\n",
       "      <td>2HD893ASAD</td>\n",
       "      <td>Exercise Ball Crunch</td>\n",
       "      <td>20</td>\n",
       "      <td>0.000000</td>\n",
       "      <td>fake_id_424</td>\n",
       "      <td>2021-01-01</td>\n",
       "      <td>2021-12-16</td>\n",
       "      <td>349</td>\n",
       "      <td>3</td>\n",
       "      <td>79</td>\n",
       "      <td>79</td>\n",
       "      <td>9</td>\n",
       "      <td>9</td>\n",
       "      <td>3</td>\n",
       "      <td>19</td>\n",
       "      <td>471</td>\n",
       "      <td>8.0</td>\n",
       "    </tr>\n",
       "  </tbody>\n",
       "</table>\n",
       "</div>"
      ],
      "text/plain": [
       "            Date   workoutId                 exerciseName  reps     weight  \\\n",
       "25341 2021-12-16  2HD893ASAD  Barbell Incline Bench Press     8  24.947610   \n",
       "25342 2021-12-16  6n4jFputZp              Seated Leg Curl    10  63.503007   \n",
       "25343 2021-12-16  6n4jFputZp              Seated Leg Curl    10  63.503007   \n",
       "25344 2021-12-16  2HD893ASAD         Exercise Ball Crunch    20   0.000000   \n",
       "25345 2021-12-16  6n4jFputZp        Single Leg Hip Thrust     8   0.000000   \n",
       "25346 2021-12-16  2HD893ASAD                  Shotgun Row     8  10.205840   \n",
       "25347 2021-12-16  2HD893ASAD                  Shotgun Row     8  10.205840   \n",
       "25348 2021-12-16  2HD893ASAD                  Shotgun Row     8  10.205840   \n",
       "25349 2021-12-16  2HD893ASAD         Exercise Ball Crunch    20   0.000000   \n",
       "25350 2021-12-16  2HD893ASAD         Exercise Ball Crunch    20   0.000000   \n",
       "\n",
       "      fake_user_id firstWorkoutDate lastWorkoutDate  daysOnApp  dayOfWeek  \\\n",
       "25341  fake_id_424       2021-01-01      2021-12-16        349          3   \n",
       "25342  fake_id_449       2021-01-04      2021-12-16        346          3   \n",
       "25343  fake_id_449       2021-01-04      2021-12-16        346          3   \n",
       "25344  fake_id_424       2021-01-01      2021-12-16        349          3   \n",
       "25345  fake_id_449       2021-01-04      2021-12-16        346          3   \n",
       "25346  fake_id_424       2021-01-01      2021-12-16        349          3   \n",
       "25347  fake_id_424       2021-01-01      2021-12-16        349          3   \n",
       "25348  fake_id_424       2021-01-01      2021-12-16        349          3   \n",
       "25349  fake_id_424       2021-01-01      2021-12-16        349          3   \n",
       "25350  fake_id_424       2021-01-01      2021-12-16        349          3   \n",
       "\n",
       "       totalWorkouts  workoutNumber  totalSetsInWorkout  setNumber  \\\n",
       "25341             79             79                   9          3   \n",
       "25342             85             85                   6          4   \n",
       "25343             85             85                   6          5   \n",
       "25344             79             79                   9          4   \n",
       "25345             85             85                   6          6   \n",
       "25346             79             79                   9          5   \n",
       "25347             79             79                   9          6   \n",
       "25348             79             79                   9          7   \n",
       "25349             79             79                   9          8   \n",
       "25350             79             79                   9          9   \n",
       "\n",
       "       setsOfExerciseWorkout  setsOfExerciseTotal  totalSets  \\\n",
       "25341                      3                   26        471   \n",
       "25342                      4                   19        435   \n",
       "25343                      4                   19        435   \n",
       "25344                      3                   19        471   \n",
       "25345                      2                   10        435   \n",
       "25346                      3                    9        471   \n",
       "25347                      3                    9        471   \n",
       "25348                      3                    9        471   \n",
       "25349                      3                   19        471   \n",
       "25350                      3                   19        471   \n",
       "\n",
       "       daysSinceLastWorkout  \n",
       "25341                   8.0  \n",
       "25342                   2.0  \n",
       "25343                   2.0  \n",
       "25344                   8.0  \n",
       "25345                   2.0  \n",
       "25346                   8.0  \n",
       "25347                   8.0  \n",
       "25348                   8.0  \n",
       "25349                   8.0  \n",
       "25350                   8.0  "
      ]
     },
     "execution_count": 42,
     "metadata": {},
     "output_type": "execute_result"
    }
   ],
   "source": [
    "# Ensure that created features look good\n",
    "df.tail(10)"
   ]
  },
  {
   "cell_type": "code",
   "execution_count": 43,
   "metadata": {},
   "outputs": [],
   "source": [
    "# We could do more analysis, but for now I will stop with creating features."
   ]
  },
  {
   "cell_type": "markdown",
   "metadata": {},
   "source": [
    "### Step 4: Explore the Data"
   ]
  },
  {
   "cell_type": "markdown",
   "metadata": {},
   "source": [
    "#### User"
   ]
  },
  {
   "cell_type": "markdown",
   "metadata": {},
   "source": [
    "Q1: How many workouts did users do in 2021? "
   ]
  },
  {
   "cell_type": "code",
   "execution_count": 88,
   "metadata": {},
   "outputs": [
    {
     "data": {
      "image/png": "[encoded data removed]",
      "text/plain": [
       "<Figure size 864x432 with 1 Axes>"
      ]
     },
     "metadata": {
      "needs_background": "light"
     },
     "output_type": "display_data"
    }
   ],
   "source": [
    "number_of_workouts_dict = {}\n",
    "\n",
    "for idx in range(len(df)):\n",
    "    user = df['fake_user_id'][idx]\n",
    "    number = df['totalWorkouts'][idx]\n",
    "    if user not in number_of_workouts_dict:\n",
    "        number_of_workouts_dict[user] = number\n",
    "\n",
    "counts = list(number_of_workouts_dict.values())\n",
    "\n",
    "plt.figure(figsize=(12,6))\n",
    "plt.title('Distribution of Number of Workouts for Users in 2021')\n",
    "plt.hist(counts, bins=15)\n",
    "plt.show()"
   ]
  },
  {
   "cell_type": "code",
   "execution_count": 90,
   "metadata": {},
   "outputs": [
    {
     "name": "stdout",
     "output_type": "stream",
     "text": [
      "median number of workouts: 58.0\n",
      "mean number of workouts: 60.59\n"
     ]
    }
   ],
   "source": [
    "print('median number of workouts: {}'.format(np.round(np.median(counts), 2)))\n",
    "print('mean number of workouts: {}'.format(np.round(np.mean(counts), 2)))"
   ]
  },
  {
   "cell_type": "code",
   "execution_count": 94,
   "metadata": {},
   "outputs": [
    {
     "name": "stdout",
     "output_type": "stream",
     "text": [
      "proportion of users who worked out at least every other day: 0.034\n",
      "proportion of users who worked out at least every third day: 0.052\n"
     ]
    }
   ],
   "source": [
    "counter_every_other = 0\n",
    "counter_every_third = 0\n",
    "\n",
    "for key in number_of_workouts_dict.keys():\n",
    "    if number_of_workouts_dict[key] > 180:\n",
    "        counter_every_other += 1\n",
    "    if number_of_workouts_dict[key] > 120:\n",
    "        counter_every_third += 1\n",
    "        \n",
    "print('proportion of users who worked out at least every other day: {}'.format(np.round(counter_every_other/len(number_of_workouts_dict), 3)))\n",
    "print('proportion of users who worked out at least every third day: {}'.format(np.round(counter_every_third/len(number_of_workouts_dict), 3)))"
   ]
  },
  {
   "cell_type": "markdown",
   "metadata": {},
   "source": [
    "Q2: How many sets did users log in 2021?"
   ]
  },
  {
   "cell_type": "code",
   "execution_count": 97,
   "metadata": {},
   "outputs": [
    {
     "data": {
      "image/png": "[encoded data removed]",
      "text/plain": [
       "<Figure size 864x432 with 1 Axes>"
      ]
     },
     "metadata": {
      "needs_background": "light"
     },
     "output_type": "display_data"
    }
   ],
   "source": [
    "sets_dict = {}\n",
    "\n",
    "for idx in range(len(df)):\n",
    "    user = df['fake_user_id'][idx]\n",
    "    sets = df['totalSets'][idx]\n",
    "    if user not in sets_dict:\n",
    "        sets_dict[user] = sets\n",
    "\n",
    "counts = list(sets_dict.values())\n",
    "\n",
    "plt.figure(figsize=(12,6))\n",
    "plt.title('Distribution of Number of Sets Performed by Users in 2021')\n",
    "plt.hist(counts, bins=25)\n",
    "plt.show()"
   ]
  },
  {
   "cell_type": "code",
   "execution_count": 98,
   "metadata": {},
   "outputs": [
    {
     "name": "stdout",
     "output_type": "stream",
     "text": [
      "median number of sets: 365.5\n",
      "mean number of sets: 437.09\n"
     ]
    }
   ],
   "source": [
    "print('median number of sets: {}'.format(np.round(np.median(counts), 2)))\n",
    "print('mean number of sets: {}'.format(np.round(np.mean(counts), 2)))"
   ]
  },
  {
   "cell_type": "markdown",
   "metadata": {},
   "source": [
    "A2: Most users performed well under 500 sets in total."
   ]
  },
  {
   "cell_type": "markdown",
   "metadata": {},
   "source": [
    "Q3: When did most users join/leave the app?"
   ]
  },
  {
   "cell_type": "code",
   "execution_count": 49,
   "metadata": {},
   "outputs": [
    {
     "data": {
      "image/png": "[encoded data removed]",
      "text/plain": [
       "<Figure size 864x432 with 1 Axes>"
      ]
     },
     "metadata": {
      "needs_background": "light"
     },
     "output_type": "display_data"
    }
   ],
   "source": [
    "plt.figure(figsize=(12,6))\n",
    "plt.title('Distribution of First Workouts of 2021 for Users')\n",
    "plt.hist(join_dict.values())\n",
    "plt.show()"
   ]
  },
  {
   "cell_type": "code",
   "execution_count": 43,
   "metadata": {},
   "outputs": [
    {
     "data": {
      "image/png": "[encoded data removed]",
      "text/plain": [
       "<Figure size 864x432 with 1 Axes>"
      ]
     },
     "metadata": {
      "needs_background": "light"
     },
     "output_type": "display_data"
    }
   ],
   "source": [
    "plt.figure(figsize=(12,6))\n",
    "plt.title('Distribution of Last Workouts of 2021 for Users')\n",
    "plt.hist(end_dict.values())\n",
    "plt.show()"
   ]
  },
  {
   "cell_type": "code",
   "execution_count": 46,
   "metadata": {},
   "outputs": [
    {
     "data": {
      "image/png": "[encoded data removed]",
      "text/plain": [
       "<Figure size 864x432 with 1 Axes>"
      ]
     },
     "metadata": {
      "needs_background": "light"
     },
     "output_type": "display_data"
    }
   ],
   "source": [
    "duration_dict = {}\n",
    "\n",
    "for user in df['fake_user_id'].unique():\n",
    "    temp_df = df[df['fake_user_id'] == user]\n",
    "    duration_dict[user] = list(temp_df['daysOnApp'])[0]\n",
    "    \n",
    "plt.figure(figsize=(12,6))\n",
    "plt.title('Distribution of Time on App for Users in 2021')\n",
    "plt.hist(duration_dict.values())\n",
    "plt.show()"
   ]
  },
  {
   "cell_type": "markdown",
   "metadata": {},
   "source": [
    "A3: Most users were on the app for the duration of 2021."
   ]
  },
  {
   "cell_type": "markdown",
   "metadata": {},
   "source": [
    "#### Date"
   ]
  },
  {
   "cell_type": "markdown",
   "metadata": {},
   "source": [
    "Q1: Are there certain dates and times where people are more likely to exercise?"
   ]
  },
  {
   "cell_type": "code",
   "execution_count": 35,
   "metadata": {},
   "outputs": [
    {
     "data": {
      "image/png": "[encoded data removed]",
      "text/plain": [
       "<Figure size 864x432 with 1 Axes>"
      ]
     },
     "metadata": {
      "needs_background": "light"
     },
     "output_type": "display_data"
    }
   ],
   "source": [
    "date_count_dict = dict(df.groupby('Date').agg('count')['workoutId'])\n",
    "dates = list(date_count_dict.keys())\n",
    "counts = list(date_count_dict.values())\n",
    "\n",
    "# Average over past seven days to smooth curve\n",
    "prev_seven_day_average = []\n",
    "for idx in range(6, len(counts)):\n",
    "    prev_seven_day_average.append(np.mean(counts[idx-6: idx+1]))\n",
    "\n",
    "plt.figure(figsize=(12,6))\n",
    "plt.title('Date vs. Daily Number of Workouts')\n",
    "plt.plot(dates[6:], prev_seven_day_average)\n",
    "plt.show()"
   ]
  },
  {
   "cell_type": "code",
   "execution_count": 36,
   "metadata": {},
   "outputs": [
    {
     "data": {
      "image/png": "[encoded data removed]",
      "text/plain": [
       "<Figure size 864x432 with 1 Axes>"
      ]
     },
     "metadata": {
      "needs_background": "light"
     },
     "output_type": "display_data"
    }
   ],
   "source": [
    "# From above we can see that there is slight negative trend to the date (i.e., as the year progresses, there are fewer\n",
    "# workouts). It's hard to determine from the above picture whether there's much seasonality. To do that, let's look at\n",
    "# the average number of workouts grouped by day of week.\n",
    "day_conversion_dict = {0: 'Monday',\n",
    "                       1: 'Tuesday',\n",
    "                       2: 'Wednesday', \n",
    "                       3: 'Thursday',\n",
    "                       4: 'Friday', \n",
    "                       5: 'Saturday',\n",
    "                       6: 'Sunday'}\n",
    "\n",
    "day_of_week_dict = dict(df.groupby('dayOfWeek').agg('count')['workoutId'])\n",
    "days = list(day_of_week_dict.keys())\n",
    "days = [day_conversion_dict[day] for day in days]\n",
    "counts = list(day_of_week_dict.values())\n",
    "\n",
    "plt.figure(figsize=(12,6))\n",
    "plt.title('Number of Workouts by Day of Week in 2021')\n",
    "plt.bar(days, counts)\n",
    "plt.show()"
   ]
  },
  {
   "cell_type": "markdown",
   "metadata": {},
   "source": [
    "A1: Generally more people worked out at the beginning of the year rather than the end of the year. Moreover, people tend to\n",
    "exercise earlier in the week (before Thursday) rather than later."
   ]
  },
  {
   "cell_type": "markdown",
   "metadata": {},
   "source": [
    "Q2: What is the average time between workouts?"
   ]
  },
  {
   "cell_type": "code",
   "execution_count": 83,
   "metadata": {},
   "outputs": [
    {
     "data": {
      "image/png": "[encoded data removed]",
      "text/plain": [
       "<Figure size 864x432 with 1 Axes>"
      ]
     },
     "metadata": {
      "needs_background": "light"
     },
     "output_type": "display_data"
    }
   ],
   "source": [
    "workout_days_since = {}\n",
    "\n",
    "for idx in range(len(df)):\n",
    "    workout = df['workoutId'][idx]\n",
    "    days = df['daysSinceLastWorkout'][idx]\n",
    "    if workout not in workout_days_since and days >= 0:\n",
    "        workout_days_since[workout] = days\n",
    "\n",
    "days = list(workout_days_since.values())\n",
    "\n",
    "plt.figure(figsize=(12,6))\n",
    "plt.title('Days Between Workouts')\n",
    "plt.hist(days, bins=150)\n",
    "plt.show()"
   ]
  },
  {
   "cell_type": "code",
   "execution_count": 80,
   "metadata": {},
   "outputs": [
    {
     "name": "stdout",
     "output_type": "stream",
     "text": [
      "median time between workouts: 2.0 days\n",
      "mean time between workouts: 3.77 days\n"
     ]
    }
   ],
   "source": [
    "print('median time between workouts: {} days'.format(np.round(np.median(days), 2)))\n",
    "print('mean time between workouts: {} days'.format(np.round(np.mean(days), 2)))"
   ]
  },
  {
   "cell_type": "code",
   "execution_count": 81,
   "metadata": {},
   "outputs": [
    {
     "data": {
      "image/png": "[encoded data removed]",
      "text/plain": [
       "<Figure size 864x432 with 1 Axes>"
      ]
     },
     "metadata": {
      "needs_background": "light"
     },
     "output_type": "display_data"
    }
   ],
   "source": [
    "days = [day for day in days if day < 20]\n",
    "\n",
    "plt.figure(figsize=(12,6))\n",
    "plt.title('Days Between Workouts')\n",
    "plt.hist(days, bins=40)\n",
    "plt.show()"
   ]
  },
  {
   "cell_type": "markdown",
   "metadata": {},
   "source": [
    "A2: Most workouts in this dataset occur within two days of the last workout completed by the given user"
   ]
  },
  {
   "cell_type": "markdown",
   "metadata": {},
   "source": [
    "#### Exercise"
   ]
  },
  {
   "cell_type": "markdown",
   "metadata": {},
   "source": [
    "Q1: What are the most popular exercises?"
   ]
  },
  {
   "cell_type": "code",
   "execution_count": 56,
   "metadata": {},
   "outputs": [
    {
     "data": {
      "image/png": "[encoded data removed]",
      "text/plain": [
       "<Figure size 864x432 with 1 Axes>"
      ]
     },
     "metadata": {
      "needs_background": "light"
     },
     "output_type": "display_data"
    }
   ],
   "source": [
    "exercises_dict = dict(df.groupby('exerciseName').agg('count')['Date'])\n",
    "exercises_dict = {exercise: count for exercise, count in sorted(exercises_dict.items(), key=lambda item: item[1])[::-1]}\n",
    "exercises = list(exercises_dict.keys())[:25]\n",
    "counts = list(exercises_dict.values())[:25]\n",
    "\n",
    "plt.figure(figsize=(12,6))\n",
    "plt.title('Top 25 Exercises of 2021')\n",
    "plt.xticks(rotation=90)\n",
    "plt.bar(exercises, counts)\n",
    "plt.show()"
   ]
  },
  {
   "cell_type": "markdown",
   "metadata": {},
   "source": [
    "A1: Air Squats, DB Shoulder Raise, DB Kickbacks, DB Rear Delt Raise, and Russian Twist are the five most popular exercises"
   ]
  },
  {
   "cell_type": "markdown",
   "metadata": {},
   "source": [
    "Q2: Which exercises are most frequently done in the same workout?"
   ]
  },
  {
   "cell_type": "code",
   "execution_count": 41,
   "metadata": {},
   "outputs": [],
   "source": [
    "exercise_workout_dict = {exercise: {} for exercise in df['exerciseName'].unique()}\n",
    "\n",
    "for workout in df['workoutId'].unique():\n",
    "    temp_df = df[df['workoutId'] == workout]\n",
    "    for exercise1 in temp_df['exerciseName'].unique():\n",
    "        for exercise2 in temp_df['exerciseName'].unique():\n",
    "            if exercise2 not in exercise_workout_dict[exercise1]:\n",
    "                exercise_workout_dict[exercise1][exercise2] = 1\n",
    "            else:\n",
    "                exercise_workout_dict[exercise1][exercise2] += 1\n",
    "                \n",
    "for exercise in df['exerciseName'].unique():\n",
    "    del exercise_workout_dict[exercise][exercise]"
   ]
  },
  {
   "cell_type": "code",
   "execution_count": 61,
   "metadata": {},
   "outputs": [
    {
     "data": {
      "image/png": "[encoded data removed]",
      "text/plain": [
       "<Figure size 864x432 with 1 Axes>"
      ]
     },
     "metadata": {
      "needs_background": "light"
     },
     "output_type": "display_data"
    }
   ],
   "source": [
    "# Now we can see what exercises and done most frequently with another chosen exercise. For example, consider the below\n",
    "back_squat_dict = {key: val for key, val in sorted(exercise_workout_dict['Back Squat'].items(), key=lambda item: item[1])[::-1]}\n",
    "exercises = list(back_squat_dict.keys())[:25]\n",
    "counts = list(back_squat_dict.values())[:25]\n",
    "\n",
    "plt.figure(figsize=(12,6))\n",
    "plt.title('Exercises Done Most Frequently With Back Squats')\n",
    "plt.xticks(rotation=90)\n",
    "plt.bar(exercises, counts)\n",
    "plt.show()"
   ]
  },
  {
   "cell_type": "code",
   "execution_count": 71,
   "metadata": {},
   "outputs": [
    {
     "data": {
      "image/png": "[encoded data removed]",
      "text/plain": [
       "<Figure size 864x432 with 1 Axes>"
      ]
     },
     "metadata": {
      "needs_background": "light"
     },
     "output_type": "display_data"
    }
   ],
   "source": [
    "counts_dict = {}\n",
    "\n",
    "for exercise1, exercise_dict in exercise_workout_dict.items():\n",
    "    for exercise2 in exercise_dict.keys():\n",
    "        if (exercise2, exercise1) not in counts_dict:\n",
    "            counts_dict[(exercise1, exercise2)] = exercise_dict[exercise2]\n",
    "            \n",
    "counts_dict = {key: val for key, val in sorted(counts_dict.items(), key=lambda item: item[1])[::-1]}\n",
    "\n",
    "exercise_pairings = list(counts_dict.keys())[:25]\n",
    "exercise_pairings = [_[0] + ',' + ' ' + _[1] for _ in exercise_pairings]\n",
    "counts = list(counts_dict.values())[:25]\n",
    "\n",
    "plt.figure(figsize=(12,6))\n",
    "plt.title('Top 25 Most Common Exercise Pairings')\n",
    "plt.xticks(rotation=90)\n",
    "plt.bar(exercise_pairings, counts)\n",
    "plt.show()"
   ]
  },
  {
   "cell_type": "markdown",
   "metadata": {},
   "source": [
    "A2: DB Shoulder Raise and Barbell Shoulder Press is the most common exercise combination in a single workout"
   ]
  },
  {
   "cell_type": "markdown",
   "metadata": {},
   "source": [
    "#### Reps"
   ]
  },
  {
   "cell_type": "markdown",
   "metadata": {},
   "source": [
    "Q1: What is a typical rep range?"
   ]
  },
  {
   "cell_type": "code",
   "execution_count": 50,
   "metadata": {},
   "outputs": [
    {
     "name": "stdout",
     "output_type": "stream",
     "text": [
      "95% of sets involve the following rep range: 1 - 21.18\n"
     ]
    }
   ],
   "source": [
    "rep_std = np.std(df['reps'])\n",
    "rep_mean = np.mean(df['reps'])\n",
    "lower_bound = max(1, rep_mean-1.96*rep_std)\n",
    "upper_bound = rep_mean+1.96*rep_std\n",
    "print('95% of sets involve the following rep range: {} - {}'.format(lower_bound, np.round(upper_bound, 2)))"
   ]
  },
  {
   "cell_type": "markdown",
   "metadata": {},
   "source": [
    "A1: Generally people perform 1-20 reps of their chosen exercise."
   ]
  },
  {
   "cell_type": "markdown",
   "metadata": {},
   "source": [
    "Q2: What exercises generally involve the highest/lowest number of reps?"
   ]
  },
  {
   "cell_type": "code",
   "execution_count": 54,
   "metadata": {},
   "outputs": [],
   "source": [
    "# Determine which exercises are best for strength and which are best for toning\n",
    "exercise_rep_range_dict = {exercise: [] for exercise in df['exerciseName'].unique()}\n",
    "\n",
    "for exercise in exercise_rep_range_dict.keys():\n",
    "    temp_df = df[df['exerciseName'] == exercise]\n",
    "    rep_std = np.std(temp_df['reps'])\n",
    "    rep_mean = np.mean(temp_df['reps'])\n",
    "    lower_bound = max(1, rep_mean-1.96*rep_std)\n",
    "    upper_bound = max(1, rep_mean+1.96*rep_std)\n",
    "    exercise_rep_range_dict[exercise].append(lower_bound)\n",
    "    exercise_rep_range_dict[exercise].append(rep_mean)\n",
    "    exercise_rep_range_dict[exercise].append(upper_bound)"
   ]
  },
  {
   "cell_type": "code",
   "execution_count": 62,
   "metadata": {},
   "outputs": [],
   "source": [
    "# Strength/toning based on 95th percentile for reps\n",
    "strength_exercises = []\n",
    "toning_exercises = []\n",
    "\n",
    "for key in exercise_rep_range_dict.keys():\n",
    "    if exercise_rep_range_dict[key][2] <= 10 and exercise_rep_range_dict[key][2] > 1:\n",
    "        strength_exercises.append(key)\n",
    "    elif exercise_rep_range_dict[key][2] > 25:\n",
    "        toning_exercises.append(key)"
   ]
  },
  {
   "cell_type": "markdown",
   "metadata": {},
   "source": [
    "A2: See below"
   ]
  },
  {
   "cell_type": "code",
   "execution_count": 63,
   "metadata": {},
   "outputs": [
    {
     "data": {
      "text/plain": [
       "['Single Leg Hip Thrust',\n",
       " 'Standing Hip Flexor Stretch',\n",
       " 'Handle Band Squat to Press',\n",
       " 'Clean',\n",
       " 'Hang Snatch',\n",
       " 'TRX Glute Bridge',\n",
       " 'TRX Pulse Lunges',\n",
       " 'Clean Deadlift',\n",
       " 'Clean and Jerk',\n",
       " 'TRX Atomic Push Up',\n",
       " 'TRX Pike',\n",
       " 'TRX Fallout']"
      ]
     },
     "execution_count": 63,
     "metadata": {},
     "output_type": "execute_result"
    }
   ],
   "source": [
    "strength_exercises"
   ]
  },
  {
   "cell_type": "code",
   "execution_count": 64,
   "metadata": {},
   "outputs": [
    {
     "data": {
      "text/plain": [
       "['Frog Pump',\n",
       " 'Air Squats',\n",
       " 'Russian Twist',\n",
       " 'Standing Hip Adduction',\n",
       " 'Sit Up',\n",
       " 'Exercise Ball Crunch',\n",
       " 'Calf Raise',\n",
       " 'Abs Bike']"
      ]
     },
     "execution_count": 64,
     "metadata": {},
     "output_type": "execute_result"
    }
   ],
   "source": [
    "toning_exercises"
   ]
  }
 ],
 "metadata": {
  "kernelspec": {
   "display_name": "Python 3",
   "language": "python",
   "name": "python3"
  },
  "language_info": {
   "codemirror_mode": {
    "name": "ipython",
    "version": 3
   },
   "file_extension": ".py",
   "mimetype": "text/x-python",
   "name": "python",
   "nbconvert_exporter": "python",
   "pygments_lexer": "ipython3",
   "version": "3.8.5"
  }
 },
 "nbformat": 4,
 "nbformat_minor": 4
}
